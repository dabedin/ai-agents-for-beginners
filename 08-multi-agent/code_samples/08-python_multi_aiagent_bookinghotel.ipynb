{
 "cells": [
  {
   "cell_type": "markdown",
   "metadata": {},
   "source": [
    "## **Samples: Multi-AI Agents for Booking hotel**\n",
    "\n",
    "In today's fast-paced world, planning a business trip involves more than just booking a flight and a hotel room. It requires a level of coordination and efficiency that can be challenging to achieve. This is where Multi-AI Agents come into play, revolutionizing the way we manage our travel needs.\n",
    "\n",
    "Imagine having a team of intelligent agents at your disposal, working together to handle every aspect of your trip with precision and ease. With our advanced AI technology, we have created specialized agents for booking services and itinerary arrangement, ensuring a seamless and stress-free travel experience. \n",
    "\n",
    "This is a basic scenario. When planning a business trip, we need to consult with a business travel agent to obtain air ticket information, hotel information, etc. Through AI Agents, we can build agents for booking services and agents for itinerary arrangement to collaborate and improve the level of intelligence. \n"
   ]
  },
  {
   "cell_type": "markdown",
   "metadata": {},
   "source": [
    "# Initialize the Azure AI Agent Service and get configuration information from **.env**\n",
    "\n",
    "### **.env** \n",
    "\n",
    "Create a .env file \n",
    "\n",
    "**.env** contains the connection string of Azure AI Agent Service, the model used by AOAI, and the corresponding Google API Search service API, ENDPOINT, etc.\n",
    "\n",
    "- **AZURE_AI_AGENT_MODEL_DEPLOYMENT_NAME** = \"Your Azure AI Agent Service Model Deployment Name\"\n",
    "\n",
    "[**NOTE**] You will need a model with 100,000 Rate Limit (Tokens per minute)  Rate Limit of 600 (Request per minute)\n",
    "\n",
    "  You can get model in Azure AI Foundry - Model and Endpoint. \n",
    "\n",
    "\n",
    "- **AZURE_AI_AGENT_PROJECT_CONNECTION_STRING** = \"Your Azure AI Agent Service Project Connection String\"\n",
    "\n",
    "  You can get the project connection string in your project overview in  AI ​​Foundry Portal Screen.\n",
    "\n",
    "- **SERPAPI_SEARCH_API_KEY** = \"Your SERPAPI Search API KEY\"\n",
    "- **SERPAPI_SEARCH_ENDPOINT** = \"Your SERPAPI Search Endpoint\"\n",
    "\n",
    "To get the Model Deployment Name and Project Connection String of Azure AI Agent Service, you need to create Azure AI Agent Service. It is recommended to use [this template](https://portal.azure.com/#create/Microsoft.Template/uri/https%3A%2F%2Fraw.githubusercontent.com%2Ffosteramanda%2Fazure-agent-quickstart-templates%2Frefs%2Fheads%2Fmaster%2Fquickstarts%2Fmicrosoft.azure-ai-agent-service%2Fstandard-agent%2Fazuredeploy.json) to create it directly （***Note:*** Azure AI Agent Service is currently set in a limited region. It is recommended that you refer to [this link](https://learn.microsoft.com/en-us/azure/ai-services/agents/concepts/model-region-support) to set the region)\n",
    "\n",
    "Agent needs to access SERPAPI. It is recommended to register using [this link](https://serpapi.com/searches). After registration, you can obtain a unique API KEY and ENDPOINT"
   ]
  },
  {
   "cell_type": "markdown",
   "metadata": {},
   "source": [
    "# Login to Azure \n",
    "\n",
    "You Now need to login into Azure Open a terminal in VScode and run the `az login` command"
   ]
  },
  {
   "cell_type": "markdown",
   "metadata": {},
   "source": [
    "# Setup \n",
    "\n",
    "To run this notebook, you will need to install the following libraries. Here is a list of the required libraries and the corresponding pip install commands:\n",
    "\n",
    "azure-identity: For Azure authentication.\n",
    "requests: For making HTTP requests.\n",
    "semantic-kernel: For the semantic kernel framework (assuming this is a custom or specific library, you might need to install it from a specific source or repository)."
   ]
  },
  {
   "cell_type": "code",
   "execution_count": 19,
   "metadata": {},
   "outputs": [
    {
     "name": "stdout",
     "output_type": "stream",
     "text": [
      "Requirement already satisfied: azure-identity in c:\\repos\\ai-agents-for-beginners\\.venv\\lib\\site-packages (1.21.0)\n",
      "Requirement already satisfied: azure-core>=1.31.0 in c:\\repos\\ai-agents-for-beginners\\.venv\\lib\\site-packages (from azure-identity) (1.33.0)\n",
      "Requirement already satisfied: cryptography>=2.5 in c:\\repos\\ai-agents-for-beginners\\.venv\\lib\\site-packages (from azure-identity) (44.0.2)\n",
      "Requirement already satisfied: msal>=1.30.0 in c:\\repos\\ai-agents-for-beginners\\.venv\\lib\\site-packages (from azure-identity) (1.31.2b1)\n",
      "Requirement already satisfied: msal-extensions>=1.2.0 in c:\\repos\\ai-agents-for-beginners\\.venv\\lib\\site-packages (from azure-identity) (1.2.0)\n",
      "Requirement already satisfied: typing-extensions>=4.0.0 in c:\\repos\\ai-agents-for-beginners\\.venv\\lib\\site-packages (from azure-identity) (4.13.2)\n",
      "Requirement already satisfied: requests>=2.21.0 in c:\\repos\\ai-agents-for-beginners\\.venv\\lib\\site-packages (from azure-core>=1.31.0->azure-identity) (2.32.3)\n",
      "Requirement already satisfied: six>=1.11.0 in c:\\repos\\ai-agents-for-beginners\\.venv\\lib\\site-packages (from azure-core>=1.31.0->azure-identity) (1.17.0)\n",
      "Requirement already satisfied: cffi>=1.12 in c:\\repos\\ai-agents-for-beginners\\.venv\\lib\\site-packages (from cryptography>=2.5->azure-identity) (1.17.1)\n",
      "Requirement already satisfied: PyJWT<3,>=1.0.0 in c:\\repos\\ai-agents-for-beginners\\.venv\\lib\\site-packages (from PyJWT[crypto]<3,>=1.0.0->msal>=1.30.0->azure-identity) (2.10.1)\n",
      "Requirement already satisfied: portalocker<3,>=1.4 in c:\\repos\\ai-agents-for-beginners\\.venv\\lib\\site-packages (from msal-extensions>=1.2.0->azure-identity) (2.10.1)\n",
      "Requirement already satisfied: pycparser in c:\\repos\\ai-agents-for-beginners\\.venv\\lib\\site-packages (from cffi>=1.12->cryptography>=2.5->azure-identity) (2.22)\n",
      "Requirement already satisfied: pywin32>=226 in c:\\repos\\ai-agents-for-beginners\\.venv\\lib\\site-packages (from portalocker<3,>=1.4->msal-extensions>=1.2.0->azure-identity) (310)\n",
      "Requirement already satisfied: charset-normalizer<4,>=2 in c:\\repos\\ai-agents-for-beginners\\.venv\\lib\\site-packages (from requests>=2.21.0->azure-core>=1.31.0->azure-identity) (3.4.1)\n",
      "Requirement already satisfied: idna<4,>=2.5 in c:\\repos\\ai-agents-for-beginners\\.venv\\lib\\site-packages (from requests>=2.21.0->azure-core>=1.31.0->azure-identity) (3.10)\n",
      "Requirement already satisfied: urllib3<3,>=1.21.1 in c:\\repos\\ai-agents-for-beginners\\.venv\\lib\\site-packages (from requests>=2.21.0->azure-core>=1.31.0->azure-identity) (2.4.0)\n",
      "Requirement already satisfied: certifi>=2017.4.17 in c:\\repos\\ai-agents-for-beginners\\.venv\\lib\\site-packages (from requests>=2.21.0->azure-core>=1.31.0->azure-identity) (2025.1.31)\n",
      "Requirement already satisfied: requests in c:\\repos\\ai-agents-for-beginners\\.venv\\lib\\site-packages (2.32.3)\n",
      "Requirement already satisfied: charset-normalizer<4,>=2 in c:\\repos\\ai-agents-for-beginners\\.venv\\lib\\site-packages (from requests) (3.4.1)\n",
      "Requirement already satisfied: idna<4,>=2.5 in c:\\repos\\ai-agents-for-beginners\\.venv\\lib\\site-packages (from requests) (3.10)\n",
      "Requirement already satisfied: urllib3<3,>=1.21.1 in c:\\repos\\ai-agents-for-beginners\\.venv\\lib\\site-packages (from requests) (2.4.0)\n",
      "Requirement already satisfied: certifi>=2017.4.17 in c:\\repos\\ai-agents-for-beginners\\.venv\\lib\\site-packages (from requests) (2025.1.31)\n",
      "Requirement already satisfied: semantic-kernel in c:\\repos\\ai-agents-for-beginners\\.venv\\lib\\site-packages (1.28.0)\n",
      "Requirement already satisfied: aiohttp~=3.8 in c:\\repos\\ai-agents-for-beginners\\.venv\\lib\\site-packages (from semantic-kernel) (3.11.16)\n",
      "Requirement already satisfied: cloudevents~=1.0 in c:\\repos\\ai-agents-for-beginners\\.venv\\lib\\site-packages (from semantic-kernel) (1.11.0)\n",
      "Requirement already satisfied: pydantic!=2.10.0,!=2.10.1,!=2.10.2,!=2.10.3,<2.12,>=2.0 in c:\\repos\\ai-agents-for-beginners\\.venv\\lib\\site-packages (from semantic-kernel) (2.10.6)\n",
      "Requirement already satisfied: pydantic-settings~=2.0 in c:\\repos\\ai-agents-for-beginners\\.venv\\lib\\site-packages (from semantic-kernel) (2.8.1)\n",
      "Requirement already satisfied: defusedxml~=0.7 in c:\\repos\\ai-agents-for-beginners\\.venv\\lib\\site-packages (from semantic-kernel) (0.7.1)\n",
      "Requirement already satisfied: azure-identity>=1.13 in c:\\repos\\ai-agents-for-beginners\\.venv\\lib\\site-packages (from semantic-kernel) (1.21.0)\n",
      "Requirement already satisfied: numpy>=1.25.0 in c:\\repos\\ai-agents-for-beginners\\.venv\\lib\\site-packages (from semantic-kernel) (2.2.4)\n",
      "Requirement already satisfied: openai>=1.67 in c:\\repos\\ai-agents-for-beginners\\.venv\\lib\\site-packages (from semantic-kernel) (1.72.0)\n",
      "Requirement already satisfied: openapi_core<0.20,>=0.18 in c:\\repos\\ai-agents-for-beginners\\.venv\\lib\\site-packages (from semantic-kernel) (0.19.5)\n",
      "Requirement already satisfied: websockets<16,>=13 in c:\\repos\\ai-agents-for-beginners\\.venv\\lib\\site-packages (from semantic-kernel) (15.0.1)\n",
      "Requirement already satisfied: aiortc>=1.9.0 in c:\\repos\\ai-agents-for-beginners\\.venv\\lib\\site-packages (from semantic-kernel) (1.11.0)\n",
      "Requirement already satisfied: opentelemetry-api~=1.24 in c:\\repos\\ai-agents-for-beginners\\.venv\\lib\\site-packages (from semantic-kernel) (1.31.1)\n",
      "Requirement already satisfied: opentelemetry-sdk~=1.24 in c:\\repos\\ai-agents-for-beginners\\.venv\\lib\\site-packages (from semantic-kernel) (1.31.1)\n",
      "Requirement already satisfied: prance~=23.6.21.0 in c:\\repos\\ai-agents-for-beginners\\.venv\\lib\\site-packages (from semantic-kernel) (23.6.21.0)\n",
      "Requirement already satisfied: pybars4~=0.9 in c:\\repos\\ai-agents-for-beginners\\.venv\\lib\\site-packages (from semantic-kernel) (0.9.13)\n",
      "Requirement already satisfied: jinja2~=3.1 in c:\\repos\\ai-agents-for-beginners\\.venv\\lib\\site-packages (from semantic-kernel) (3.1.6)\n",
      "Requirement already satisfied: nest-asyncio~=1.6 in c:\\repos\\ai-agents-for-beginners\\.venv\\lib\\site-packages (from semantic-kernel) (1.6.0)\n",
      "Requirement already satisfied: scipy>=1.15.1 in c:\\repos\\ai-agents-for-beginners\\.venv\\lib\\site-packages (from semantic-kernel) (1.15.2)\n",
      "Requirement already satisfied: aiohappyeyeballs>=2.3.0 in c:\\repos\\ai-agents-for-beginners\\.venv\\lib\\site-packages (from aiohttp~=3.8->semantic-kernel) (2.6.1)\n",
      "Requirement already satisfied: aiosignal>=1.1.2 in c:\\repos\\ai-agents-for-beginners\\.venv\\lib\\site-packages (from aiohttp~=3.8->semantic-kernel) (1.3.2)\n",
      "Requirement already satisfied: attrs>=17.3.0 in c:\\repos\\ai-agents-for-beginners\\.venv\\lib\\site-packages (from aiohttp~=3.8->semantic-kernel) (25.3.0)\n",
      "Requirement already satisfied: frozenlist>=1.1.1 in c:\\repos\\ai-agents-for-beginners\\.venv\\lib\\site-packages (from aiohttp~=3.8->semantic-kernel) (1.5.0)\n",
      "Requirement already satisfied: multidict<7.0,>=4.5 in c:\\repos\\ai-agents-for-beginners\\.venv\\lib\\site-packages (from aiohttp~=3.8->semantic-kernel) (6.4.2)\n",
      "Requirement already satisfied: propcache>=0.2.0 in c:\\repos\\ai-agents-for-beginners\\.venv\\lib\\site-packages (from aiohttp~=3.8->semantic-kernel) (0.3.1)\n",
      "Requirement already satisfied: yarl<2.0,>=1.17.0 in c:\\repos\\ai-agents-for-beginners\\.venv\\lib\\site-packages (from aiohttp~=3.8->semantic-kernel) (1.19.0)\n",
      "Requirement already satisfied: aioice<1.0.0,>=0.9.0 in c:\\repos\\ai-agents-for-beginners\\.venv\\lib\\site-packages (from aiortc>=1.9.0->semantic-kernel) (0.10.1)\n",
      "Requirement already satisfied: av<15.0.0,>=14.0.0 in c:\\repos\\ai-agents-for-beginners\\.venv\\lib\\site-packages (from aiortc>=1.9.0->semantic-kernel) (14.3.0)\n",
      "Requirement already satisfied: cffi>=1.0.0 in c:\\repos\\ai-agents-for-beginners\\.venv\\lib\\site-packages (from aiortc>=1.9.0->semantic-kernel) (1.17.1)\n",
      "Requirement already satisfied: cryptography>=44.0.0 in c:\\repos\\ai-agents-for-beginners\\.venv\\lib\\site-packages (from aiortc>=1.9.0->semantic-kernel) (44.0.2)\n",
      "Requirement already satisfied: google-crc32c>=1.1 in c:\\repos\\ai-agents-for-beginners\\.venv\\lib\\site-packages (from aiortc>=1.9.0->semantic-kernel) (1.7.1)\n",
      "Requirement already satisfied: pyee>=13.0.0 in c:\\repos\\ai-agents-for-beginners\\.venv\\lib\\site-packages (from aiortc>=1.9.0->semantic-kernel) (13.0.0)\n",
      "Requirement already satisfied: pylibsrtp>=0.10.0 in c:\\repos\\ai-agents-for-beginners\\.venv\\lib\\site-packages (from aiortc>=1.9.0->semantic-kernel) (0.12.0)\n",
      "Requirement already satisfied: pyopenssl>=25.0.0 in c:\\repos\\ai-agents-for-beginners\\.venv\\lib\\site-packages (from aiortc>=1.9.0->semantic-kernel) (25.0.0)\n",
      "Requirement already satisfied: azure-core>=1.31.0 in c:\\repos\\ai-agents-for-beginners\\.venv\\lib\\site-packages (from azure-identity>=1.13->semantic-kernel) (1.33.0)\n",
      "Requirement already satisfied: msal>=1.30.0 in c:\\repos\\ai-agents-for-beginners\\.venv\\lib\\site-packages (from azure-identity>=1.13->semantic-kernel) (1.31.2b1)\n",
      "Requirement already satisfied: msal-extensions>=1.2.0 in c:\\repos\\ai-agents-for-beginners\\.venv\\lib\\site-packages (from azure-identity>=1.13->semantic-kernel) (1.2.0)\n",
      "Requirement already satisfied: typing-extensions>=4.0.0 in c:\\repos\\ai-agents-for-beginners\\.venv\\lib\\site-packages (from azure-identity>=1.13->semantic-kernel) (4.13.2)\n",
      "Requirement already satisfied: deprecation<3.0,>=2.0 in c:\\repos\\ai-agents-for-beginners\\.venv\\lib\\site-packages (from cloudevents~=1.0->semantic-kernel) (2.1.0)\n",
      "Requirement already satisfied: MarkupSafe>=2.0 in c:\\repos\\ai-agents-for-beginners\\.venv\\lib\\site-packages (from jinja2~=3.1->semantic-kernel) (3.0.2)\n",
      "Requirement already satisfied: anyio<5,>=3.5.0 in c:\\repos\\ai-agents-for-beginners\\.venv\\lib\\site-packages (from openai>=1.67->semantic-kernel) (4.9.0)\n",
      "Requirement already satisfied: distro<2,>=1.7.0 in c:\\repos\\ai-agents-for-beginners\\.venv\\lib\\site-packages (from openai>=1.67->semantic-kernel) (1.9.0)\n",
      "Requirement already satisfied: httpx<1,>=0.23.0 in c:\\repos\\ai-agents-for-beginners\\.venv\\lib\\site-packages (from openai>=1.67->semantic-kernel) (0.28.1)\n",
      "Requirement already satisfied: jiter<1,>=0.4.0 in c:\\repos\\ai-agents-for-beginners\\.venv\\lib\\site-packages (from openai>=1.67->semantic-kernel) (0.9.0)\n",
      "Requirement already satisfied: sniffio in c:\\repos\\ai-agents-for-beginners\\.venv\\lib\\site-packages (from openai>=1.67->semantic-kernel) (1.3.1)\n",
      "Requirement already satisfied: tqdm>4 in c:\\repos\\ai-agents-for-beginners\\.venv\\lib\\site-packages (from openai>=1.67->semantic-kernel) (4.67.1)\n",
      "Requirement already satisfied: isodate in c:\\repos\\ai-agents-for-beginners\\.venv\\lib\\site-packages (from openapi_core<0.20,>=0.18->semantic-kernel) (0.7.2)\n",
      "Requirement already satisfied: jsonschema<5.0.0,>=4.18.0 in c:\\repos\\ai-agents-for-beginners\\.venv\\lib\\site-packages (from openapi_core<0.20,>=0.18->semantic-kernel) (4.23.0)\n",
      "Requirement already satisfied: jsonschema-path<0.4.0,>=0.3.1 in c:\\repos\\ai-agents-for-beginners\\.venv\\lib\\site-packages (from openapi_core<0.20,>=0.18->semantic-kernel) (0.3.4)\n",
      "Requirement already satisfied: more-itertools in c:\\repos\\ai-agents-for-beginners\\.venv\\lib\\site-packages (from openapi_core<0.20,>=0.18->semantic-kernel) (10.6.0)\n",
      "Requirement already satisfied: openapi-schema-validator<0.7.0,>=0.6.0 in c:\\repos\\ai-agents-for-beginners\\.venv\\lib\\site-packages (from openapi_core<0.20,>=0.18->semantic-kernel) (0.6.3)\n",
      "Requirement already satisfied: openapi-spec-validator<0.8.0,>=0.7.1 in c:\\repos\\ai-agents-for-beginners\\.venv\\lib\\site-packages (from openapi_core<0.20,>=0.18->semantic-kernel) (0.7.1)\n",
      "Requirement already satisfied: parse in c:\\repos\\ai-agents-for-beginners\\.venv\\lib\\site-packages (from openapi_core<0.20,>=0.18->semantic-kernel) (1.20.2)\n",
      "Requirement already satisfied: werkzeug<3.1.2 in c:\\repos\\ai-agents-for-beginners\\.venv\\lib\\site-packages (from openapi_core<0.20,>=0.18->semantic-kernel) (3.1.1)\n",
      "Requirement already satisfied: deprecated>=1.2.6 in c:\\repos\\ai-agents-for-beginners\\.venv\\lib\\site-packages (from opentelemetry-api~=1.24->semantic-kernel) (1.2.18)\n",
      "Requirement already satisfied: importlib-metadata<8.7.0,>=6.0 in c:\\repos\\ai-agents-for-beginners\\.venv\\lib\\site-packages (from opentelemetry-api~=1.24->semantic-kernel) (8.6.1)\n",
      "Requirement already satisfied: opentelemetry-semantic-conventions==0.52b1 in c:\\repos\\ai-agents-for-beginners\\.venv\\lib\\site-packages (from opentelemetry-sdk~=1.24->semantic-kernel) (0.52b1)\n",
      "Requirement already satisfied: chardet>=3.0 in c:\\repos\\ai-agents-for-beginners\\.venv\\lib\\site-packages (from prance~=23.6.21.0->semantic-kernel) (5.2.0)\n",
      "Requirement already satisfied: ruamel.yaml>=0.17.10 in c:\\repos\\ai-agents-for-beginners\\.venv\\lib\\site-packages (from prance~=23.6.21.0->semantic-kernel) (0.18.10)\n",
      "Requirement already satisfied: requests>=2.25 in c:\\repos\\ai-agents-for-beginners\\.venv\\lib\\site-packages (from prance~=23.6.21.0->semantic-kernel) (2.32.3)\n",
      "Requirement already satisfied: six~=1.15 in c:\\repos\\ai-agents-for-beginners\\.venv\\lib\\site-packages (from prance~=23.6.21.0->semantic-kernel) (1.17.0)\n",
      "Requirement already satisfied: packaging>=21.3 in c:\\repos\\ai-agents-for-beginners\\.venv\\lib\\site-packages (from prance~=23.6.21.0->semantic-kernel) (24.2)\n",
      "Requirement already satisfied: PyMeta3>=0.5.1 in c:\\repos\\ai-agents-for-beginners\\.venv\\lib\\site-packages (from pybars4~=0.9->semantic-kernel) (0.5.1)\n",
      "Requirement already satisfied: annotated-types>=0.6.0 in c:\\repos\\ai-agents-for-beginners\\.venv\\lib\\site-packages (from pydantic!=2.10.0,!=2.10.1,!=2.10.2,!=2.10.3,<2.12,>=2.0->semantic-kernel) (0.7.0)\n",
      "Requirement already satisfied: pydantic-core==2.27.2 in c:\\repos\\ai-agents-for-beginners\\.venv\\lib\\site-packages (from pydantic!=2.10.0,!=2.10.1,!=2.10.2,!=2.10.3,<2.12,>=2.0->semantic-kernel) (2.27.2)\n",
      "Requirement already satisfied: python-dotenv>=0.21.0 in c:\\repos\\ai-agents-for-beginners\\.venv\\lib\\site-packages (from pydantic-settings~=2.0->semantic-kernel) (1.0.1)\n",
      "Requirement already satisfied: dnspython>=2.0.0 in c:\\repos\\ai-agents-for-beginners\\.venv\\lib\\site-packages (from aioice<1.0.0,>=0.9.0->aiortc>=1.9.0->semantic-kernel) (2.7.0)\n",
      "Requirement already satisfied: ifaddr>=0.2.0 in c:\\repos\\ai-agents-for-beginners\\.venv\\lib\\site-packages (from aioice<1.0.0,>=0.9.0->aiortc>=1.9.0->semantic-kernel) (0.2.0)\n",
      "Requirement already satisfied: idna>=2.8 in c:\\repos\\ai-agents-for-beginners\\.venv\\lib\\site-packages (from anyio<5,>=3.5.0->openai>=1.67->semantic-kernel) (3.10)\n",
      "Requirement already satisfied: pycparser in c:\\repos\\ai-agents-for-beginners\\.venv\\lib\\site-packages (from cffi>=1.0.0->aiortc>=1.9.0->semantic-kernel) (2.22)\n",
      "Requirement already satisfied: wrapt<2,>=1.10 in c:\\repos\\ai-agents-for-beginners\\.venv\\lib\\site-packages (from deprecated>=1.2.6->opentelemetry-api~=1.24->semantic-kernel) (1.17.2)\n",
      "Requirement already satisfied: certifi in c:\\repos\\ai-agents-for-beginners\\.venv\\lib\\site-packages (from httpx<1,>=0.23.0->openai>=1.67->semantic-kernel) (2025.1.31)\n",
      "Requirement already satisfied: httpcore==1.* in c:\\repos\\ai-agents-for-beginners\\.venv\\lib\\site-packages (from httpx<1,>=0.23.0->openai>=1.67->semantic-kernel) (1.0.7)\n",
      "Requirement already satisfied: h11<0.15,>=0.13 in c:\\repos\\ai-agents-for-beginners\\.venv\\lib\\site-packages (from httpcore==1.*->httpx<1,>=0.23.0->openai>=1.67->semantic-kernel) (0.14.0)\n",
      "Requirement already satisfied: zipp>=3.20 in c:\\repos\\ai-agents-for-beginners\\.venv\\lib\\site-packages (from importlib-metadata<8.7.0,>=6.0->opentelemetry-api~=1.24->semantic-kernel) (3.21.0)\n",
      "Requirement already satisfied: jsonschema-specifications>=2023.03.6 in c:\\repos\\ai-agents-for-beginners\\.venv\\lib\\site-packages (from jsonschema<5.0.0,>=4.18.0->openapi_core<0.20,>=0.18->semantic-kernel) (2024.10.1)\n",
      "Requirement already satisfied: referencing>=0.28.4 in c:\\repos\\ai-agents-for-beginners\\.venv\\lib\\site-packages (from jsonschema<5.0.0,>=4.18.0->openapi_core<0.20,>=0.18->semantic-kernel) (0.36.2)\n",
      "Requirement already satisfied: rpds-py>=0.7.1 in c:\\repos\\ai-agents-for-beginners\\.venv\\lib\\site-packages (from jsonschema<5.0.0,>=4.18.0->openapi_core<0.20,>=0.18->semantic-kernel) (0.24.0)\n",
      "Requirement already satisfied: PyYAML>=5.1 in c:\\repos\\ai-agents-for-beginners\\.venv\\lib\\site-packages (from jsonschema-path<0.4.0,>=0.3.1->openapi_core<0.20,>=0.18->semantic-kernel) (6.0.2)\n",
      "Requirement already satisfied: pathable<0.5.0,>=0.4.1 in c:\\repos\\ai-agents-for-beginners\\.venv\\lib\\site-packages (from jsonschema-path<0.4.0,>=0.3.1->openapi_core<0.20,>=0.18->semantic-kernel) (0.4.4)\n",
      "Requirement already satisfied: PyJWT<3,>=1.0.0 in c:\\repos\\ai-agents-for-beginners\\.venv\\lib\\site-packages (from PyJWT[crypto]<3,>=1.0.0->msal>=1.30.0->azure-identity>=1.13->semantic-kernel) (2.10.1)\n",
      "Requirement already satisfied: portalocker<3,>=1.4 in c:\\repos\\ai-agents-for-beginners\\.venv\\lib\\site-packages (from msal-extensions>=1.2.0->azure-identity>=1.13->semantic-kernel) (2.10.1)\n",
      "Requirement already satisfied: rfc3339-validator in c:\\repos\\ai-agents-for-beginners\\.venv\\lib\\site-packages (from openapi-schema-validator<0.7.0,>=0.6.0->openapi_core<0.20,>=0.18->semantic-kernel) (0.1.4)\n",
      "Requirement already satisfied: lazy-object-proxy<2.0.0,>=1.7.1 in c:\\repos\\ai-agents-for-beginners\\.venv\\lib\\site-packages (from openapi-spec-validator<0.8.0,>=0.7.1->openapi_core<0.20,>=0.18->semantic-kernel) (1.10.0)\n",
      "Requirement already satisfied: charset-normalizer<4,>=2 in c:\\repos\\ai-agents-for-beginners\\.venv\\lib\\site-packages (from requests>=2.25->prance~=23.6.21.0->semantic-kernel) (3.4.1)\n",
      "Requirement already satisfied: urllib3<3,>=1.21.1 in c:\\repos\\ai-agents-for-beginners\\.venv\\lib\\site-packages (from requests>=2.25->prance~=23.6.21.0->semantic-kernel) (2.4.0)\n",
      "Requirement already satisfied: ruamel.yaml.clib>=0.2.7 in c:\\repos\\ai-agents-for-beginners\\.venv\\lib\\site-packages (from ruamel.yaml>=0.17.10->prance~=23.6.21.0->semantic-kernel) (0.2.12)\n",
      "Requirement already satisfied: colorama in c:\\repos\\ai-agents-for-beginners\\.venv\\lib\\site-packages (from tqdm>4->openai>=1.67->semantic-kernel) (0.4.6)\n",
      "Requirement already satisfied: pywin32>=226 in c:\\repos\\ai-agents-for-beginners\\.venv\\lib\\site-packages (from portalocker<3,>=1.4->msal-extensions>=1.2.0->azure-identity>=1.13->semantic-kernel) (310)\n",
      "Requirement already satisfied: semantic_kernel in c:\\repos\\ai-agents-for-beginners\\.venv\\lib\\site-packages (1.28.0)\n",
      "Requirement already satisfied: aiohttp~=3.8 in c:\\repos\\ai-agents-for-beginners\\.venv\\lib\\site-packages (from semantic_kernel) (3.11.16)\n",
      "Requirement already satisfied: cloudevents~=1.0 in c:\\repos\\ai-agents-for-beginners\\.venv\\lib\\site-packages (from semantic_kernel) (1.11.0)\n",
      "Requirement already satisfied: pydantic!=2.10.0,!=2.10.1,!=2.10.2,!=2.10.3,<2.12,>=2.0 in c:\\repos\\ai-agents-for-beginners\\.venv\\lib\\site-packages (from semantic_kernel) (2.10.6)\n",
      "Requirement already satisfied: pydantic-settings~=2.0 in c:\\repos\\ai-agents-for-beginners\\.venv\\lib\\site-packages (from semantic_kernel) (2.8.1)\n",
      "Requirement already satisfied: defusedxml~=0.7 in c:\\repos\\ai-agents-for-beginners\\.venv\\lib\\site-packages (from semantic_kernel) (0.7.1)\n",
      "Requirement already satisfied: azure-identity>=1.13 in c:\\repos\\ai-agents-for-beginners\\.venv\\lib\\site-packages (from semantic_kernel) (1.21.0)\n",
      "Requirement already satisfied: numpy>=1.25.0 in c:\\repos\\ai-agents-for-beginners\\.venv\\lib\\site-packages (from semantic_kernel) (2.2.4)\n",
      "Requirement already satisfied: openai>=1.67 in c:\\repos\\ai-agents-for-beginners\\.venv\\lib\\site-packages (from semantic_kernel) (1.72.0)\n",
      "Requirement already satisfied: openapi_core<0.20,>=0.18 in c:\\repos\\ai-agents-for-beginners\\.venv\\lib\\site-packages (from semantic_kernel) (0.19.5)\n",
      "Requirement already satisfied: websockets<16,>=13 in c:\\repos\\ai-agents-for-beginners\\.venv\\lib\\site-packages (from semantic_kernel) (15.0.1)\n",
      "Requirement already satisfied: aiortc>=1.9.0 in c:\\repos\\ai-agents-for-beginners\\.venv\\lib\\site-packages (from semantic_kernel) (1.11.0)\n",
      "Requirement already satisfied: opentelemetry-api~=1.24 in c:\\repos\\ai-agents-for-beginners\\.venv\\lib\\site-packages (from semantic_kernel) (1.31.1)\n",
      "Requirement already satisfied: opentelemetry-sdk~=1.24 in c:\\repos\\ai-agents-for-beginners\\.venv\\lib\\site-packages (from semantic_kernel) (1.31.1)\n",
      "Requirement already satisfied: prance~=23.6.21.0 in c:\\repos\\ai-agents-for-beginners\\.venv\\lib\\site-packages (from semantic_kernel) (23.6.21.0)\n",
      "Requirement already satisfied: pybars4~=0.9 in c:\\repos\\ai-agents-for-beginners\\.venv\\lib\\site-packages (from semantic_kernel) (0.9.13)\n",
      "Requirement already satisfied: jinja2~=3.1 in c:\\repos\\ai-agents-for-beginners\\.venv\\lib\\site-packages (from semantic_kernel) (3.1.6)\n",
      "Requirement already satisfied: nest-asyncio~=1.6 in c:\\repos\\ai-agents-for-beginners\\.venv\\lib\\site-packages (from semantic_kernel) (1.6.0)\n",
      "Requirement already satisfied: scipy>=1.15.1 in c:\\repos\\ai-agents-for-beginners\\.venv\\lib\\site-packages (from semantic_kernel) (1.15.2)\n",
      "Requirement already satisfied: aiohappyeyeballs>=2.3.0 in c:\\repos\\ai-agents-for-beginners\\.venv\\lib\\site-packages (from aiohttp~=3.8->semantic_kernel) (2.6.1)\n",
      "Requirement already satisfied: aiosignal>=1.1.2 in c:\\repos\\ai-agents-for-beginners\\.venv\\lib\\site-packages (from aiohttp~=3.8->semantic_kernel) (1.3.2)\n",
      "Requirement already satisfied: attrs>=17.3.0 in c:\\repos\\ai-agents-for-beginners\\.venv\\lib\\site-packages (from aiohttp~=3.8->semantic_kernel) (25.3.0)\n",
      "Requirement already satisfied: frozenlist>=1.1.1 in c:\\repos\\ai-agents-for-beginners\\.venv\\lib\\site-packages (from aiohttp~=3.8->semantic_kernel) (1.5.0)\n",
      "Requirement already satisfied: multidict<7.0,>=4.5 in c:\\repos\\ai-agents-for-beginners\\.venv\\lib\\site-packages (from aiohttp~=3.8->semantic_kernel) (6.4.2)\n",
      "Requirement already satisfied: propcache>=0.2.0 in c:\\repos\\ai-agents-for-beginners\\.venv\\lib\\site-packages (from aiohttp~=3.8->semantic_kernel) (0.3.1)\n",
      "Requirement already satisfied: yarl<2.0,>=1.17.0 in c:\\repos\\ai-agents-for-beginners\\.venv\\lib\\site-packages (from aiohttp~=3.8->semantic_kernel) (1.19.0)\n",
      "Requirement already satisfied: aioice<1.0.0,>=0.9.0 in c:\\repos\\ai-agents-for-beginners\\.venv\\lib\\site-packages (from aiortc>=1.9.0->semantic_kernel) (0.10.1)\n",
      "Requirement already satisfied: av<15.0.0,>=14.0.0 in c:\\repos\\ai-agents-for-beginners\\.venv\\lib\\site-packages (from aiortc>=1.9.0->semantic_kernel) (14.3.0)\n",
      "Requirement already satisfied: cffi>=1.0.0 in c:\\repos\\ai-agents-for-beginners\\.venv\\lib\\site-packages (from aiortc>=1.9.0->semantic_kernel) (1.17.1)\n",
      "Requirement already satisfied: cryptography>=44.0.0 in c:\\repos\\ai-agents-for-beginners\\.venv\\lib\\site-packages (from aiortc>=1.9.0->semantic_kernel) (44.0.2)\n",
      "Requirement already satisfied: google-crc32c>=1.1 in c:\\repos\\ai-agents-for-beginners\\.venv\\lib\\site-packages (from aiortc>=1.9.0->semantic_kernel) (1.7.1)\n",
      "Requirement already satisfied: pyee>=13.0.0 in c:\\repos\\ai-agents-for-beginners\\.venv\\lib\\site-packages (from aiortc>=1.9.0->semantic_kernel) (13.0.0)\n",
      "Requirement already satisfied: pylibsrtp>=0.10.0 in c:\\repos\\ai-agents-for-beginners\\.venv\\lib\\site-packages (from aiortc>=1.9.0->semantic_kernel) (0.12.0)\n",
      "Requirement already satisfied: pyopenssl>=25.0.0 in c:\\repos\\ai-agents-for-beginners\\.venv\\lib\\site-packages (from aiortc>=1.9.0->semantic_kernel) (25.0.0)\n",
      "Requirement already satisfied: azure-core>=1.31.0 in c:\\repos\\ai-agents-for-beginners\\.venv\\lib\\site-packages (from azure-identity>=1.13->semantic_kernel) (1.33.0)\n",
      "Requirement already satisfied: msal>=1.30.0 in c:\\repos\\ai-agents-for-beginners\\.venv\\lib\\site-packages (from azure-identity>=1.13->semantic_kernel) (1.31.2b1)\n",
      "Requirement already satisfied: msal-extensions>=1.2.0 in c:\\repos\\ai-agents-for-beginners\\.venv\\lib\\site-packages (from azure-identity>=1.13->semantic_kernel) (1.2.0)\n",
      "Requirement already satisfied: typing-extensions>=4.0.0 in c:\\repos\\ai-agents-for-beginners\\.venv\\lib\\site-packages (from azure-identity>=1.13->semantic_kernel) (4.13.2)\n",
      "Requirement already satisfied: deprecation<3.0,>=2.0 in c:\\repos\\ai-agents-for-beginners\\.venv\\lib\\site-packages (from cloudevents~=1.0->semantic_kernel) (2.1.0)\n",
      "Requirement already satisfied: MarkupSafe>=2.0 in c:\\repos\\ai-agents-for-beginners\\.venv\\lib\\site-packages (from jinja2~=3.1->semantic_kernel) (3.0.2)\n",
      "Requirement already satisfied: anyio<5,>=3.5.0 in c:\\repos\\ai-agents-for-beginners\\.venv\\lib\\site-packages (from openai>=1.67->semantic_kernel) (4.9.0)\n",
      "Requirement already satisfied: distro<2,>=1.7.0 in c:\\repos\\ai-agents-for-beginners\\.venv\\lib\\site-packages (from openai>=1.67->semantic_kernel) (1.9.0)\n",
      "Requirement already satisfied: httpx<1,>=0.23.0 in c:\\repos\\ai-agents-for-beginners\\.venv\\lib\\site-packages (from openai>=1.67->semantic_kernel) (0.28.1)\n",
      "Requirement already satisfied: jiter<1,>=0.4.0 in c:\\repos\\ai-agents-for-beginners\\.venv\\lib\\site-packages (from openai>=1.67->semantic_kernel) (0.9.0)\n",
      "Requirement already satisfied: sniffio in c:\\repos\\ai-agents-for-beginners\\.venv\\lib\\site-packages (from openai>=1.67->semantic_kernel) (1.3.1)\n",
      "Requirement already satisfied: tqdm>4 in c:\\repos\\ai-agents-for-beginners\\.venv\\lib\\site-packages (from openai>=1.67->semantic_kernel) (4.67.1)\n",
      "Requirement already satisfied: isodate in c:\\repos\\ai-agents-for-beginners\\.venv\\lib\\site-packages (from openapi_core<0.20,>=0.18->semantic_kernel) (0.7.2)\n",
      "Requirement already satisfied: jsonschema<5.0.0,>=4.18.0 in c:\\repos\\ai-agents-for-beginners\\.venv\\lib\\site-packages (from openapi_core<0.20,>=0.18->semantic_kernel) (4.23.0)\n",
      "Requirement already satisfied: jsonschema-path<0.4.0,>=0.3.1 in c:\\repos\\ai-agents-for-beginners\\.venv\\lib\\site-packages (from openapi_core<0.20,>=0.18->semantic_kernel) (0.3.4)\n",
      "Requirement already satisfied: more-itertools in c:\\repos\\ai-agents-for-beginners\\.venv\\lib\\site-packages (from openapi_core<0.20,>=0.18->semantic_kernel) (10.6.0)\n",
      "Requirement already satisfied: openapi-schema-validator<0.7.0,>=0.6.0 in c:\\repos\\ai-agents-for-beginners\\.venv\\lib\\site-packages (from openapi_core<0.20,>=0.18->semantic_kernel) (0.6.3)\n",
      "Requirement already satisfied: openapi-spec-validator<0.8.0,>=0.7.1 in c:\\repos\\ai-agents-for-beginners\\.venv\\lib\\site-packages (from openapi_core<0.20,>=0.18->semantic_kernel) (0.7.1)\n",
      "Requirement already satisfied: parse in c:\\repos\\ai-agents-for-beginners\\.venv\\lib\\site-packages (from openapi_core<0.20,>=0.18->semantic_kernel) (1.20.2)\n",
      "Requirement already satisfied: werkzeug<3.1.2 in c:\\repos\\ai-agents-for-beginners\\.venv\\lib\\site-packages (from openapi_core<0.20,>=0.18->semantic_kernel) (3.1.1)\n",
      "Requirement already satisfied: deprecated>=1.2.6 in c:\\repos\\ai-agents-for-beginners\\.venv\\lib\\site-packages (from opentelemetry-api~=1.24->semantic_kernel) (1.2.18)\n",
      "Requirement already satisfied: importlib-metadata<8.7.0,>=6.0 in c:\\repos\\ai-agents-for-beginners\\.venv\\lib\\site-packages (from opentelemetry-api~=1.24->semantic_kernel) (8.6.1)\n",
      "Requirement already satisfied: opentelemetry-semantic-conventions==0.52b1 in c:\\repos\\ai-agents-for-beginners\\.venv\\lib\\site-packages (from opentelemetry-sdk~=1.24->semantic_kernel) (0.52b1)\n",
      "Requirement already satisfied: chardet>=3.0 in c:\\repos\\ai-agents-for-beginners\\.venv\\lib\\site-packages (from prance~=23.6.21.0->semantic_kernel) (5.2.0)\n",
      "Requirement already satisfied: ruamel.yaml>=0.17.10 in c:\\repos\\ai-agents-for-beginners\\.venv\\lib\\site-packages (from prance~=23.6.21.0->semantic_kernel) (0.18.10)\n",
      "Requirement already satisfied: requests>=2.25 in c:\\repos\\ai-agents-for-beginners\\.venv\\lib\\site-packages (from prance~=23.6.21.0->semantic_kernel) (2.32.3)\n",
      "Requirement already satisfied: six~=1.15 in c:\\repos\\ai-agents-for-beginners\\.venv\\lib\\site-packages (from prance~=23.6.21.0->semantic_kernel) (1.17.0)\n",
      "Requirement already satisfied: packaging>=21.3 in c:\\repos\\ai-agents-for-beginners\\.venv\\lib\\site-packages (from prance~=23.6.21.0->semantic_kernel) (24.2)\n",
      "Requirement already satisfied: PyMeta3>=0.5.1 in c:\\repos\\ai-agents-for-beginners\\.venv\\lib\\site-packages (from pybars4~=0.9->semantic_kernel) (0.5.1)\n",
      "Requirement already satisfied: annotated-types>=0.6.0 in c:\\repos\\ai-agents-for-beginners\\.venv\\lib\\site-packages (from pydantic!=2.10.0,!=2.10.1,!=2.10.2,!=2.10.3,<2.12,>=2.0->semantic_kernel) (0.7.0)\n",
      "Requirement already satisfied: pydantic-core==2.27.2 in c:\\repos\\ai-agents-for-beginners\\.venv\\lib\\site-packages (from pydantic!=2.10.0,!=2.10.1,!=2.10.2,!=2.10.3,<2.12,>=2.0->semantic_kernel) (2.27.2)\n",
      "Requirement already satisfied: python-dotenv>=0.21.0 in c:\\repos\\ai-agents-for-beginners\\.venv\\lib\\site-packages (from pydantic-settings~=2.0->semantic_kernel) (1.0.1)\n",
      "Requirement already satisfied: dnspython>=2.0.0 in c:\\repos\\ai-agents-for-beginners\\.venv\\lib\\site-packages (from aioice<1.0.0,>=0.9.0->aiortc>=1.9.0->semantic_kernel) (2.7.0)\n",
      "Requirement already satisfied: ifaddr>=0.2.0 in c:\\repos\\ai-agents-for-beginners\\.venv\\lib\\site-packages (from aioice<1.0.0,>=0.9.0->aiortc>=1.9.0->semantic_kernel) (0.2.0)\n",
      "Requirement already satisfied: idna>=2.8 in c:\\repos\\ai-agents-for-beginners\\.venv\\lib\\site-packages (from anyio<5,>=3.5.0->openai>=1.67->semantic_kernel) (3.10)\n",
      "Requirement already satisfied: pycparser in c:\\repos\\ai-agents-for-beginners\\.venv\\lib\\site-packages (from cffi>=1.0.0->aiortc>=1.9.0->semantic_kernel) (2.22)\n",
      "Requirement already satisfied: wrapt<2,>=1.10 in c:\\repos\\ai-agents-for-beginners\\.venv\\lib\\site-packages (from deprecated>=1.2.6->opentelemetry-api~=1.24->semantic_kernel) (1.17.2)\n",
      "Requirement already satisfied: certifi in c:\\repos\\ai-agents-for-beginners\\.venv\\lib\\site-packages (from httpx<1,>=0.23.0->openai>=1.67->semantic_kernel) (2025.1.31)\n",
      "Requirement already satisfied: httpcore==1.* in c:\\repos\\ai-agents-for-beginners\\.venv\\lib\\site-packages (from httpx<1,>=0.23.0->openai>=1.67->semantic_kernel) (1.0.7)\n",
      "Requirement already satisfied: h11<0.15,>=0.13 in c:\\repos\\ai-agents-for-beginners\\.venv\\lib\\site-packages (from httpcore==1.*->httpx<1,>=0.23.0->openai>=1.67->semantic_kernel) (0.14.0)\n",
      "Requirement already satisfied: zipp>=3.20 in c:\\repos\\ai-agents-for-beginners\\.venv\\lib\\site-packages (from importlib-metadata<8.7.0,>=6.0->opentelemetry-api~=1.24->semantic_kernel) (3.21.0)\n",
      "Requirement already satisfied: jsonschema-specifications>=2023.03.6 in c:\\repos\\ai-agents-for-beginners\\.venv\\lib\\site-packages (from jsonschema<5.0.0,>=4.18.0->openapi_core<0.20,>=0.18->semantic_kernel) (2024.10.1)\n",
      "Requirement already satisfied: referencing>=0.28.4 in c:\\repos\\ai-agents-for-beginners\\.venv\\lib\\site-packages (from jsonschema<5.0.0,>=4.18.0->openapi_core<0.20,>=0.18->semantic_kernel) (0.36.2)\n",
      "Requirement already satisfied: rpds-py>=0.7.1 in c:\\repos\\ai-agents-for-beginners\\.venv\\lib\\site-packages (from jsonschema<5.0.0,>=4.18.0->openapi_core<0.20,>=0.18->semantic_kernel) (0.24.0)\n",
      "Requirement already satisfied: PyYAML>=5.1 in c:\\repos\\ai-agents-for-beginners\\.venv\\lib\\site-packages (from jsonschema-path<0.4.0,>=0.3.1->openapi_core<0.20,>=0.18->semantic_kernel) (6.0.2)\n",
      "Requirement already satisfied: pathable<0.5.0,>=0.4.1 in c:\\repos\\ai-agents-for-beginners\\.venv\\lib\\site-packages (from jsonschema-path<0.4.0,>=0.3.1->openapi_core<0.20,>=0.18->semantic_kernel) (0.4.4)\n",
      "Requirement already satisfied: PyJWT<3,>=1.0.0 in c:\\repos\\ai-agents-for-beginners\\.venv\\lib\\site-packages (from PyJWT[crypto]<3,>=1.0.0->msal>=1.30.0->azure-identity>=1.13->semantic_kernel) (2.10.1)\n",
      "Requirement already satisfied: portalocker<3,>=1.4 in c:\\repos\\ai-agents-for-beginners\\.venv\\lib\\site-packages (from msal-extensions>=1.2.0->azure-identity>=1.13->semantic_kernel) (2.10.1)\n",
      "Requirement already satisfied: rfc3339-validator in c:\\repos\\ai-agents-for-beginners\\.venv\\lib\\site-packages (from openapi-schema-validator<0.7.0,>=0.6.0->openapi_core<0.20,>=0.18->semantic_kernel) (0.1.4)\n",
      "Requirement already satisfied: lazy-object-proxy<2.0.0,>=1.7.1 in c:\\repos\\ai-agents-for-beginners\\.venv\\lib\\site-packages (from openapi-spec-validator<0.8.0,>=0.7.1->openapi_core<0.20,>=0.18->semantic_kernel) (1.10.0)\n",
      "Requirement already satisfied: charset-normalizer<4,>=2 in c:\\repos\\ai-agents-for-beginners\\.venv\\lib\\site-packages (from requests>=2.25->prance~=23.6.21.0->semantic_kernel) (3.4.1)\n",
      "Requirement already satisfied: urllib3<3,>=1.21.1 in c:\\repos\\ai-agents-for-beginners\\.venv\\lib\\site-packages (from requests>=2.25->prance~=23.6.21.0->semantic_kernel) (2.4.0)\n",
      "Requirement already satisfied: ruamel.yaml.clib>=0.2.7 in c:\\repos\\ai-agents-for-beginners\\.venv\\lib\\site-packages (from ruamel.yaml>=0.17.10->prance~=23.6.21.0->semantic_kernel) (0.2.12)\n",
      "Requirement already satisfied: colorama in c:\\repos\\ai-agents-for-beginners\\.venv\\lib\\site-packages (from tqdm>4->openai>=1.67->semantic_kernel) (0.4.6)\n",
      "Requirement already satisfied: pywin32>=226 in c:\\repos\\ai-agents-for-beginners\\.venv\\lib\\site-packages (from portalocker<3,>=1.4->msal-extensions>=1.2.0->azure-identity>=1.13->semantic_kernel) (310)\n",
      "Requirement already satisfied: azure-cli in c:\\repos\\ai-agents-for-beginners\\.venv\\lib\\site-packages (2.71.0)\n",
      "Requirement already satisfied: antlr4-python3-runtime~=4.13.1 in c:\\repos\\ai-agents-for-beginners\\.venv\\lib\\site-packages (from azure-cli) (4.13.2)\n",
      "Requirement already satisfied: azure-appconfiguration~=1.7.0 in c:\\repos\\ai-agents-for-beginners\\.venv\\lib\\site-packages (from azure-cli) (1.7.1)\n",
      "Requirement already satisfied: azure-batch~=15.0.0b1 in c:\\repos\\ai-agents-for-beginners\\.venv\\lib\\site-packages (from azure-cli) (15.0.0b2)\n",
      "Requirement already satisfied: azure-cli-core==2.71.0 in c:\\repos\\ai-agents-for-beginners\\.venv\\lib\\site-packages (from azure-cli) (2.71.0)\n",
      "Requirement already satisfied: azure-cosmos>=3.0.2,~=3.0 in c:\\repos\\ai-agents-for-beginners\\.venv\\lib\\site-packages (from azure-cli) (3.2.0)\n",
      "Requirement already satisfied: azure-data-tables==12.4.0 in c:\\repos\\ai-agents-for-beginners\\.venv\\lib\\site-packages (from azure-cli) (12.4.0)\n",
      "Requirement already satisfied: azure-datalake-store~=1.0.0a0 in c:\\repos\\ai-agents-for-beginners\\.venv\\lib\\site-packages (from azure-cli) (1.0.0a0)\n",
      "Requirement already satisfied: azure-keyvault-administration==4.4.0b2 in c:\\repos\\ai-agents-for-beginners\\.venv\\lib\\site-packages (from azure-cli) (4.4.0b2)\n",
      "Requirement already satisfied: azure-keyvault-certificates==4.7.0 in c:\\repos\\ai-agents-for-beginners\\.venv\\lib\\site-packages (from azure-cli) (4.7.0)\n",
      "Requirement already satisfied: azure-keyvault-keys==4.9.0b3 in c:\\repos\\ai-agents-for-beginners\\.venv\\lib\\site-packages (from azure-cli) (4.9.0b3)\n",
      "Requirement already satisfied: azure-keyvault-secrets==4.7.0 in c:\\repos\\ai-agents-for-beginners\\.venv\\lib\\site-packages (from azure-cli) (4.7.0)\n",
      "Requirement already satisfied: azure-mgmt-advisor==9.0.0 in c:\\repos\\ai-agents-for-beginners\\.venv\\lib\\site-packages (from azure-cli) (9.0.0)\n",
      "Requirement already satisfied: azure-mgmt-apimanagement==4.0.0 in c:\\repos\\ai-agents-for-beginners\\.venv\\lib\\site-packages (from azure-cli) (4.0.0)\n",
      "Requirement already satisfied: azure-mgmt-appconfiguration==3.1.0 in c:\\repos\\ai-agents-for-beginners\\.venv\\lib\\site-packages (from azure-cli) (3.1.0)\n",
      "Requirement already satisfied: azure-mgmt-appcontainers==2.0.0 in c:\\repos\\ai-agents-for-beginners\\.venv\\lib\\site-packages (from azure-cli) (2.0.0)\n",
      "Requirement already satisfied: azure-mgmt-applicationinsights~=1.0.0 in c:\\repos\\ai-agents-for-beginners\\.venv\\lib\\site-packages (from azure-cli) (1.0.0)\n",
      "Requirement already satisfied: azure-mgmt-authorization~=4.0.0 in c:\\repos\\ai-agents-for-beginners\\.venv\\lib\\site-packages (from azure-cli) (4.0.0)\n",
      "Requirement already satisfied: azure-mgmt-batchai==7.0.0b1 in c:\\repos\\ai-agents-for-beginners\\.venv\\lib\\site-packages (from azure-cli) (7.0.0b1)\n",
      "Requirement already satisfied: azure-mgmt-batch~=17.3.0 in c:\\repos\\ai-agents-for-beginners\\.venv\\lib\\site-packages (from azure-cli) (17.3.0)\n",
      "Requirement already satisfied: azure-mgmt-billing==6.0.0 in c:\\repos\\ai-agents-for-beginners\\.venv\\lib\\site-packages (from azure-cli) (6.0.0)\n",
      "Requirement already satisfied: azure-mgmt-botservice~=2.0.0b3 in c:\\repos\\ai-agents-for-beginners\\.venv\\lib\\site-packages (from azure-cli) (2.0.0)\n",
      "Requirement already satisfied: azure-mgmt-cdn==12.0.0 in c:\\repos\\ai-agents-for-beginners\\.venv\\lib\\site-packages (from azure-cli) (12.0.0)\n",
      "Requirement already satisfied: azure-mgmt-cognitiveservices~=13.5.0 in c:\\repos\\ai-agents-for-beginners\\.venv\\lib\\site-packages (from azure-cli) (13.5.0)\n",
      "Requirement already satisfied: azure-mgmt-compute~=33.0.0 in c:\\repos\\ai-agents-for-beginners\\.venv\\lib\\site-packages (from azure-cli) (33.0.0)\n",
      "Requirement already satisfied: azure-mgmt-containerinstance==10.2.0b1 in c:\\repos\\ai-agents-for-beginners\\.venv\\lib\\site-packages (from azure-cli) (10.2.0b1)\n",
      "Requirement already satisfied: azure-mgmt-containerregistry==10.3.0 in c:\\repos\\ai-agents-for-beginners\\.venv\\lib\\site-packages (from azure-cli) (10.3.0)\n",
      "Requirement already satisfied: azure-mgmt-containerservice~=34.2.0 in c:\\repos\\ai-agents-for-beginners\\.venv\\lib\\site-packages (from azure-cli) (34.2.0)\n",
      "Requirement already satisfied: azure-mgmt-cosmosdb==9.7.0 in c:\\repos\\ai-agents-for-beginners\\.venv\\lib\\site-packages (from azure-cli) (9.7.0)\n",
      "Requirement already satisfied: azure-mgmt-databoxedge~=1.0.0 in c:\\repos\\ai-agents-for-beginners\\.venv\\lib\\site-packages (from azure-cli) (1.0.0)\n",
      "Requirement already satisfied: azure-mgmt-datalake-store~=1.1.0b1 in c:\\repos\\ai-agents-for-beginners\\.venv\\lib\\site-packages (from azure-cli) (1.1.0b1)\n",
      "Requirement already satisfied: azure-mgmt-datamigration~=10.0.0 in c:\\repos\\ai-agents-for-beginners\\.venv\\lib\\site-packages (from azure-cli) (10.0.0)\n",
      "Requirement already satisfied: azure-mgmt-dns~=8.0.0 in c:\\repos\\ai-agents-for-beginners\\.venv\\lib\\site-packages (from azure-cli) (8.0.0)\n",
      "Requirement already satisfied: azure-mgmt-eventgrid==10.2.0b2 in c:\\repos\\ai-agents-for-beginners\\.venv\\lib\\site-packages (from azure-cli) (10.2.0b2)\n",
      "Requirement already satisfied: azure-mgmt-eventhub~=10.1.0 in c:\\repos\\ai-agents-for-beginners\\.venv\\lib\\site-packages (from azure-cli) (10.1.0)\n",
      "Requirement already satisfied: azure-mgmt-extendedlocation==1.0.0b2 in c:\\repos\\ai-agents-for-beginners\\.venv\\lib\\site-packages (from azure-cli) (1.0.0b2)\n",
      "Requirement already satisfied: azure-mgmt-hdinsight==9.0.0b3 in c:\\repos\\ai-agents-for-beginners\\.venv\\lib\\site-packages (from azure-cli) (9.0.0b3)\n",
      "Requirement already satisfied: azure-mgmt-imagebuilder~=1.3.0 in c:\\repos\\ai-agents-for-beginners\\.venv\\lib\\site-packages (from azure-cli) (1.3.0)\n",
      "Requirement already satisfied: azure-mgmt-iotcentral~=10.0.0b1 in c:\\repos\\ai-agents-for-beginners\\.venv\\lib\\site-packages (from azure-cli) (10.0.0b2)\n",
      "Requirement already satisfied: azure-mgmt-iothub==3.0.0 in c:\\repos\\ai-agents-for-beginners\\.venv\\lib\\site-packages (from azure-cli) (3.0.0)\n",
      "Requirement already satisfied: azure-mgmt-iothubprovisioningservices==1.1.0 in c:\\repos\\ai-agents-for-beginners\\.venv\\lib\\site-packages (from azure-cli) (1.1.0)\n",
      "Requirement already satisfied: azure-mgmt-keyvault==11.0.0 in c:\\repos\\ai-agents-for-beginners\\.venv\\lib\\site-packages (from azure-cli) (11.0.0)\n",
      "Requirement already satisfied: azure-mgmt-loganalytics==13.0.0b4 in c:\\repos\\ai-agents-for-beginners\\.venv\\lib\\site-packages (from azure-cli) (13.0.0b4)\n",
      "Requirement already satisfied: azure-mgmt-managementgroups~=1.0.0 in c:\\repos\\ai-agents-for-beginners\\.venv\\lib\\site-packages (from azure-cli) (1.0.0)\n",
      "Requirement already satisfied: azure-mgmt-maps~=2.0.0 in c:\\repos\\ai-agents-for-beginners\\.venv\\lib\\site-packages (from azure-cli) (2.0.0)\n",
      "Requirement already satisfied: azure-mgmt-marketplaceordering==1.1.0 in c:\\repos\\ai-agents-for-beginners\\.venv\\lib\\site-packages (from azure-cli) (1.1.0)\n",
      "Requirement already satisfied: azure-mgmt-media~=9.0 in c:\\repos\\ai-agents-for-beginners\\.venv\\lib\\site-packages (from azure-cli) (9.0.0)\n",
      "Requirement already satisfied: azure-mgmt-monitor~=5.0.0 in c:\\repos\\ai-agents-for-beginners\\.venv\\lib\\site-packages (from azure-cli) (5.0.1)\n",
      "Requirement already satisfied: azure-mgmt-msi~=7.0.0 in c:\\repos\\ai-agents-for-beginners\\.venv\\lib\\site-packages (from azure-cli) (7.0.0)\n",
      "Requirement already satisfied: azure-mgmt-netapp~=10.1.0 in c:\\repos\\ai-agents-for-beginners\\.venv\\lib\\site-packages (from azure-cli) (10.1.0)\n",
      "Requirement already satisfied: azure-mgmt-policyinsights==1.1.0b4 in c:\\repos\\ai-agents-for-beginners\\.venv\\lib\\site-packages (from azure-cli) (1.1.0b4)\n",
      "Requirement already satisfied: azure-mgmt-postgresqlflexibleservers==1.1.0b2 in c:\\repos\\ai-agents-for-beginners\\.venv\\lib\\site-packages (from azure-cli) (1.1.0b2)\n",
      "Requirement already satisfied: azure-mgmt-privatedns~=1.0.0 in c:\\repos\\ai-agents-for-beginners\\.venv\\lib\\site-packages (from azure-cli) (1.0.0)\n",
      "Requirement already satisfied: azure-mgmt-rdbms==10.2.0b17 in c:\\repos\\ai-agents-for-beginners\\.venv\\lib\\site-packages (from azure-cli) (10.2.0b17)\n",
      "Requirement already satisfied: azure-mgmt-mysqlflexibleservers==1.0.0b3 in c:\\repos\\ai-agents-for-beginners\\.venv\\lib\\site-packages (from azure-cli) (1.0.0b3)\n",
      "Requirement already satisfied: azure-mgmt-recoveryservicesbackup~=9.1.0 in c:\\repos\\ai-agents-for-beginners\\.venv\\lib\\site-packages (from azure-cli) (9.1.0)\n",
      "Requirement already satisfied: azure-mgmt-recoveryservices~=3.0.0 in c:\\repos\\ai-agents-for-beginners\\.venv\\lib\\site-packages (from azure-cli) (3.0.0)\n",
      "Requirement already satisfied: azure-mgmt-redhatopenshift~=1.5.0 in c:\\repos\\ai-agents-for-beginners\\.venv\\lib\\site-packages (from azure-cli) (1.5.0)\n",
      "Requirement already satisfied: azure-mgmt-redis~=14.5.0 in c:\\repos\\ai-agents-for-beginners\\.venv\\lib\\site-packages (from azure-cli) (14.5.0)\n",
      "Requirement already satisfied: azure-mgmt-resource==23.1.1 in c:\\repos\\ai-agents-for-beginners\\.venv\\lib\\site-packages (from azure-cli) (23.1.1)\n",
      "Requirement already satisfied: azure-mgmt-search~=9.0 in c:\\repos\\ai-agents-for-beginners\\.venv\\lib\\site-packages (from azure-cli) (9.1.0)\n",
      "Requirement already satisfied: azure-mgmt-security==6.0.0 in c:\\repos\\ai-agents-for-beginners\\.venv\\lib\\site-packages (from azure-cli) (6.0.0)\n",
      "Requirement already satisfied: azure-mgmt-servicebus~=8.2.0 in c:\\repos\\ai-agents-for-beginners\\.venv\\lib\\site-packages (from azure-cli) (8.2.1)\n",
      "Requirement already satisfied: azure-mgmt-servicefabricmanagedclusters==2.1.0b1 in c:\\repos\\ai-agents-for-beginners\\.venv\\lib\\site-packages (from azure-cli) (2.1.0b1)\n",
      "Requirement already satisfied: azure-mgmt-servicelinker==1.2.0b3 in c:\\repos\\ai-agents-for-beginners\\.venv\\lib\\site-packages (from azure-cli) (1.2.0b3)\n",
      "Requirement already satisfied: azure-mgmt-servicefabric~=2.1.0 in c:\\repos\\ai-agents-for-beginners\\.venv\\lib\\site-packages (from azure-cli) (2.1.0)\n",
      "Requirement already satisfied: azure-mgmt-signalr==2.0.0b2 in c:\\repos\\ai-agents-for-beginners\\.venv\\lib\\site-packages (from azure-cli) (2.0.0b2)\n",
      "Requirement already satisfied: azure-mgmt-sqlvirtualmachine==1.0.0b5 in c:\\repos\\ai-agents-for-beginners\\.venv\\lib\\site-packages (from azure-cli) (1.0.0b5)\n",
      "Requirement already satisfied: azure-mgmt-sql==4.0.0b20 in c:\\repos\\ai-agents-for-beginners\\.venv\\lib\\site-packages (from azure-cli) (4.0.0b20)\n",
      "Requirement already satisfied: azure-mgmt-storage==22.1.0 in c:\\repos\\ai-agents-for-beginners\\.venv\\lib\\site-packages (from azure-cli) (22.1.0)\n",
      "Requirement already satisfied: azure-mgmt-synapse==2.1.0b5 in c:\\repos\\ai-agents-for-beginners\\.venv\\lib\\site-packages (from azure-cli) (2.1.0b5)\n",
      "Requirement already satisfied: azure-mgmt-trafficmanager~=1.0.0 in c:\\repos\\ai-agents-for-beginners\\.venv\\lib\\site-packages (from azure-cli) (1.0.0)\n",
      "Requirement already satisfied: azure-mgmt-web==7.3.1 in c:\\repos\\ai-agents-for-beginners\\.venv\\lib\\site-packages (from azure-cli) (7.3.1)\n",
      "Requirement already satisfied: azure-monitor-query==1.2.0 in c:\\repos\\ai-agents-for-beginners\\.venv\\lib\\site-packages (from azure-cli) (1.2.0)\n",
      "Requirement already satisfied: azure-multiapi-storage==1.4.0 in c:\\repos\\ai-agents-for-beginners\\.venv\\lib\\site-packages (from azure-cli) (1.4.0)\n",
      "Requirement already satisfied: azure-storage-common~=1.4 in c:\\repos\\ai-agents-for-beginners\\.venv\\lib\\site-packages (from azure-cli) (1.4.2)\n",
      "Requirement already satisfied: azure-synapse-accesscontrol~=0.5.0 in c:\\repos\\ai-agents-for-beginners\\.venv\\lib\\site-packages (from azure-cli) (0.5.0)\n",
      "Requirement already satisfied: azure-synapse-artifacts~=0.20.0 in c:\\repos\\ai-agents-for-beginners\\.venv\\lib\\site-packages (from azure-cli) (0.20.0)\n",
      "Requirement already satisfied: azure-synapse-managedprivateendpoints~=0.4.0 in c:\\repos\\ai-agents-for-beginners\\.venv\\lib\\site-packages (from azure-cli) (0.4.0)\n",
      "Requirement already satisfied: azure-synapse-spark~=0.7.0 in c:\\repos\\ai-agents-for-beginners\\.venv\\lib\\site-packages (from azure-cli) (0.7.0)\n",
      "Requirement already satisfied: chardet~=5.2.0 in c:\\repos\\ai-agents-for-beginners\\.venv\\lib\\site-packages (from azure-cli) (5.2.0)\n",
      "Requirement already satisfied: colorama~=0.4.4 in c:\\repos\\ai-agents-for-beginners\\.venv\\lib\\site-packages (from azure-cli) (0.4.6)\n",
      "Requirement already satisfied: fabric~=3.2.2 in c:\\repos\\ai-agents-for-beginners\\.venv\\lib\\site-packages (from azure-cli) (3.2.2)\n",
      "Requirement already satisfied: javaproperties~=0.5.1 in c:\\repos\\ai-agents-for-beginners\\.venv\\lib\\site-packages (from azure-cli) (0.5.2)\n",
      "Requirement already satisfied: jsondiff~=2.0.0 in c:\\repos\\ai-agents-for-beginners\\.venv\\lib\\site-packages (from azure-cli) (2.0.0)\n",
      "Requirement already satisfied: packaging>=20.9 in c:\\repos\\ai-agents-for-beginners\\.venv\\lib\\site-packages (from azure-cli) (24.2)\n",
      "Requirement already satisfied: paramiko<4.0.0,>=2.0.8 in c:\\repos\\ai-agents-for-beginners\\.venv\\lib\\site-packages (from azure-cli) (3.5.1)\n",
      "Requirement already satisfied: pycomposefile>=0.0.32 in c:\\repos\\ai-agents-for-beginners\\.venv\\lib\\site-packages (from azure-cli) (0.0.32)\n",
      "Requirement already satisfied: PyGithub~=1.38 in c:\\repos\\ai-agents-for-beginners\\.venv\\lib\\site-packages (from azure-cli) (1.59.1)\n",
      "Requirement already satisfied: PyNaCl~=1.5.0 in c:\\repos\\ai-agents-for-beginners\\.venv\\lib\\site-packages (from azure-cli) (1.5.0)\n",
      "Requirement already satisfied: scp~=0.13.2 in c:\\repos\\ai-agents-for-beginners\\.venv\\lib\\site-packages (from azure-cli) (0.13.6)\n",
      "Requirement already satisfied: semver==2.13.0 in c:\\repos\\ai-agents-for-beginners\\.venv\\lib\\site-packages (from azure-cli) (2.13.0)\n",
      "Requirement already satisfied: setuptools in c:\\repos\\ai-agents-for-beginners\\.venv\\lib\\site-packages (from azure-cli) (65.5.0)\n",
      "Requirement already satisfied: six>=1.10.0 in c:\\repos\\ai-agents-for-beginners\\.venv\\lib\\site-packages (from azure-cli) (1.17.0)\n",
      "Requirement already satisfied: sshtunnel~=0.1.4 in c:\\repos\\ai-agents-for-beginners\\.venv\\lib\\site-packages (from azure-cli) (0.1.5)\n",
      "Requirement already satisfied: tabulate in c:\\repos\\ai-agents-for-beginners\\.venv\\lib\\site-packages (from azure-cli) (0.9.0)\n",
      "Requirement already satisfied: urllib3 in c:\\repos\\ai-agents-for-beginners\\.venv\\lib\\site-packages (from azure-cli) (2.4.0)\n",
      "Requirement already satisfied: websocket-client~=1.3.1 in c:\\repos\\ai-agents-for-beginners\\.venv\\lib\\site-packages (from azure-cli) (1.3.3)\n",
      "Requirement already satisfied: xmltodict~=0.12 in c:\\repos\\ai-agents-for-beginners\\.venv\\lib\\site-packages (from azure-cli) (0.14.2)\n",
      "Requirement already satisfied: argcomplete~=3.5.2 in c:\\repos\\ai-agents-for-beginners\\.venv\\lib\\site-packages (from azure-cli-core==2.71.0->azure-cli) (3.5.3)\n",
      "Requirement already satisfied: azure-cli-telemetry==1.1.0.* in c:\\repos\\ai-agents-for-beginners\\.venv\\lib\\site-packages (from azure-cli-core==2.71.0->azure-cli) (1.1.0)\n",
      "Requirement already satisfied: azure-mgmt-core<2,>=1.2.0 in c:\\repos\\ai-agents-for-beginners\\.venv\\lib\\site-packages (from azure-cli-core==2.71.0->azure-cli) (1.5.0)\n",
      "Requirement already satisfied: cryptography in c:\\repos\\ai-agents-for-beginners\\.venv\\lib\\site-packages (from azure-cli-core==2.71.0->azure-cli) (44.0.2)\n",
      "Requirement already satisfied: humanfriendly~=10.0 in c:\\repos\\ai-agents-for-beginners\\.venv\\lib\\site-packages (from azure-cli-core==2.71.0->azure-cli) (10.0)\n",
      "Requirement already satisfied: jmespath in c:\\repos\\ai-agents-for-beginners\\.venv\\lib\\site-packages (from azure-cli-core==2.71.0->azure-cli) (1.0.1)\n",
      "Requirement already satisfied: knack~=0.11.0 in c:\\repos\\ai-agents-for-beginners\\.venv\\lib\\site-packages (from azure-cli-core==2.71.0->azure-cli) (0.11.0)\n",
      "Requirement already satisfied: microsoft-security-utilities-secret-masker~=1.0.0b4 in c:\\repos\\ai-agents-for-beginners\\.venv\\lib\\site-packages (from azure-cli-core==2.71.0->azure-cli) (1.0.0b4)\n",
      "Requirement already satisfied: msal-extensions==1.2.0 in c:\\repos\\ai-agents-for-beginners\\.venv\\lib\\site-packages (from azure-cli-core==2.71.0->azure-cli) (1.2.0)\n",
      "Requirement already satisfied: msal==1.31.2b1 in c:\\repos\\ai-agents-for-beginners\\.venv\\lib\\site-packages (from msal[broker]==1.31.2b1->azure-cli-core==2.71.0->azure-cli) (1.31.2b1)\n",
      "Requirement already satisfied: msrestazure~=0.6.4 in c:\\repos\\ai-agents-for-beginners\\.venv\\lib\\site-packages (from azure-cli-core==2.71.0->azure-cli) (0.6.4.post1)\n",
      "Requirement already satisfied: pkginfo>=1.5.0.1 in c:\\repos\\ai-agents-for-beginners\\.venv\\lib\\site-packages (from azure-cli-core==2.71.0->azure-cli) (1.12.1.2)\n",
      "Requirement already satisfied: psutil>=5.9 in c:\\repos\\ai-agents-for-beginners\\.venv\\lib\\site-packages (from azure-cli-core==2.71.0->azure-cli) (7.0.0)\n",
      "Requirement already satisfied: PyJWT>=2.1.0 in c:\\repos\\ai-agents-for-beginners\\.venv\\lib\\site-packages (from azure-cli-core==2.71.0->azure-cli) (2.10.1)\n",
      "Requirement already satisfied: pyopenssl>=17.1.0 in c:\\repos\\ai-agents-for-beginners\\.venv\\lib\\site-packages (from azure-cli-core==2.71.0->azure-cli) (25.0.0)\n",
      "Requirement already satisfied: py-deviceid in c:\\repos\\ai-agents-for-beginners\\.venv\\lib\\site-packages (from azure-cli-core==2.71.0->azure-cli) (0.1.1)\n",
      "Requirement already satisfied: requests[socks] in c:\\repos\\ai-agents-for-beginners\\.venv\\lib\\site-packages (from azure-cli-core==2.71.0->azure-cli) (2.32.3)\n",
      "Requirement already satisfied: azure-core<2.0.0,>=1.15.0 in c:\\repos\\ai-agents-for-beginners\\.venv\\lib\\site-packages (from azure-data-tables==12.4.0->azure-cli) (1.33.0)\n",
      "Requirement already satisfied: msrest>=0.6.21 in c:\\repos\\ai-agents-for-beginners\\.venv\\lib\\site-packages (from azure-data-tables==12.4.0->azure-cli) (0.7.1)\n",
      "Requirement already satisfied: azure-common~=1.1 in c:\\repos\\ai-agents-for-beginners\\.venv\\lib\\site-packages (from azure-keyvault-administration==4.4.0b2->azure-cli) (1.1.28)\n",
      "Requirement already satisfied: isodate>=0.6.1 in c:\\repos\\ai-agents-for-beginners\\.venv\\lib\\site-packages (from azure-keyvault-administration==4.4.0b2->azure-cli) (0.7.2)\n",
      "Requirement already satisfied: typing-extensions>=4.0.1 in c:\\repos\\ai-agents-for-beginners\\.venv\\lib\\site-packages (from azure-keyvault-administration==4.4.0b2->azure-cli) (4.13.2)\n",
      "Requirement already satisfied: python-dateutil in c:\\repos\\ai-agents-for-beginners\\.venv\\lib\\site-packages (from azure-multiapi-storage==1.4.0->azure-cli) (2.9.0.post0)\n",
      "Requirement already satisfied: applicationinsights<0.12,>=0.11.1 in c:\\repos\\ai-agents-for-beginners\\.venv\\lib\\site-packages (from azure-cli-telemetry==1.1.0.*->azure-cli-core==2.71.0->azure-cli) (0.11.10)\n",
      "Requirement already satisfied: portalocker<3,>=1.6 in c:\\repos\\ai-agents-for-beginners\\.venv\\lib\\site-packages (from azure-cli-telemetry==1.1.0.*->azure-cli-core==2.71.0->azure-cli) (2.10.1)\n",
      "Requirement already satisfied: pymsalruntime<0.18,>=0.14 in c:\\repos\\ai-agents-for-beginners\\.venv\\lib\\site-packages (from msal[broker]==1.31.2b1->azure-cli-core==2.71.0->azure-cli) (0.17.1)\n",
      "Requirement already satisfied: cffi in c:\\repos\\ai-agents-for-beginners\\.venv\\lib\\site-packages (from azure-datalake-store~=1.0.0a0->azure-cli) (1.17.1)\n",
      "Requirement already satisfied: invoke>=2.0 in c:\\repos\\ai-agents-for-beginners\\.venv\\lib\\site-packages (from fabric~=3.2.2->azure-cli) (2.2.0)\n",
      "Requirement already satisfied: decorator>=5 in c:\\repos\\ai-agents-for-beginners\\.venv\\lib\\site-packages (from fabric~=3.2.2->azure-cli) (5.2.1)\n",
      "Requirement already satisfied: deprecated>=1.2 in c:\\repos\\ai-agents-for-beginners\\.venv\\lib\\site-packages (from fabric~=3.2.2->azure-cli) (1.2.18)\n",
      "Requirement already satisfied: bcrypt>=3.2 in c:\\repos\\ai-agents-for-beginners\\.venv\\lib\\site-packages (from paramiko<4.0.0,>=2.0.8->azure-cli) (4.3.0)\n",
      "Requirement already satisfied: pyyaml in c:\\repos\\ai-agents-for-beginners\\.venv\\lib\\site-packages (from pycomposefile>=0.0.32->azure-cli) (6.0.2)\n",
      "Requirement already satisfied: pycparser in c:\\repos\\ai-agents-for-beginners\\.venv\\lib\\site-packages (from cffi->azure-datalake-store~=1.0.0a0->azure-cli) (2.22)\n",
      "Requirement already satisfied: wrapt<2,>=1.10 in c:\\repos\\ai-agents-for-beginners\\.venv\\lib\\site-packages (from deprecated>=1.2->fabric~=3.2.2->azure-cli) (1.17.2)\n",
      "Requirement already satisfied: pyreadline3 in c:\\repos\\ai-agents-for-beginners\\.venv\\lib\\site-packages (from humanfriendly~=10.0->azure-cli-core==2.71.0->azure-cli) (3.5.4)\n",
      "Requirement already satisfied: pygments in c:\\repos\\ai-agents-for-beginners\\.venv\\lib\\site-packages (from knack~=0.11.0->azure-cli-core==2.71.0->azure-cli) (2.19.1)\n",
      "Requirement already satisfied: certifi>=2017.4.17 in c:\\repos\\ai-agents-for-beginners\\.venv\\lib\\site-packages (from msrest>=0.6.21->azure-data-tables==12.4.0->azure-cli) (2025.1.31)\n",
      "Requirement already satisfied: requests-oauthlib>=0.5.0 in c:\\repos\\ai-agents-for-beginners\\.venv\\lib\\site-packages (from msrest>=0.6.21->azure-data-tables==12.4.0->azure-cli) (2.0.0)\n",
      "Requirement already satisfied: adal<2.0.0,>=0.6.0 in c:\\repos\\ai-agents-for-beginners\\.venv\\lib\\site-packages (from msrestazure~=0.6.4->azure-cli-core==2.71.0->azure-cli) (1.2.7)\n",
      "Requirement already satisfied: charset-normalizer<4,>=2 in c:\\repos\\ai-agents-for-beginners\\.venv\\lib\\site-packages (from requests[socks]->azure-cli-core==2.71.0->azure-cli) (3.4.1)\n",
      "Requirement already satisfied: idna<4,>=2.5 in c:\\repos\\ai-agents-for-beginners\\.venv\\lib\\site-packages (from requests[socks]->azure-cli-core==2.71.0->azure-cli) (3.10)\n",
      "Requirement already satisfied: PySocks!=1.5.7,>=1.5.6 in c:\\repos\\ai-agents-for-beginners\\.venv\\lib\\site-packages (from requests[socks]->azure-cli-core==2.71.0->azure-cli) (1.7.1)\n",
      "Requirement already satisfied: pywin32>=226 in c:\\repos\\ai-agents-for-beginners\\.venv\\lib\\site-packages (from portalocker<3,>=1.6->azure-cli-telemetry==1.1.0.*->azure-cli-core==2.71.0->azure-cli) (310)\n",
      "Requirement already satisfied: oauthlib>=3.0.0 in c:\\repos\\ai-agents-for-beginners\\.venv\\lib\\site-packages (from requests-oauthlib>=0.5.0->msrest>=0.6.21->azure-data-tables==12.4.0->azure-cli) (3.2.2)\n"
     ]
    }
   ],
   "source": [
    "!pip install azure-identity\n",
    "!pip install requests\n",
    "!pip install semantic-kernel\n",
    "!pip install --upgrade semantic_kernel\n",
    "!pip install azure-cli"
   ]
  },
  {
   "cell_type": "markdown",
   "metadata": {},
   "source": [
    "# Explanation: \n",
    "import asyncio: This imports the asyncio module, which provides support for asynchronous programming in Python. It allows you to write concurrent code using the async and await syntax.\n",
    "from typing import Annotated: This imports the Annotated type from the typing module. Annotated is used to add metadata to type hints, which can be useful for various purposes such as validation, documentation, or tooling"
   ]
  },
  {
   "cell_type": "code",
   "execution_count": 15,
   "metadata": {
    "dotnet_interactive": {
     "language": "csharp"
    },
    "polyglot_notebook": {
     "kernelName": "csharp"
    }
   },
   "outputs": [],
   "source": [
    "import asyncio,os\n",
    "from typing import Annotated"
   ]
  },
  {
   "cell_type": "markdown",
   "metadata": {},
   "source": [
    "# Explanation:\n",
    "By using from dotenv import load_dotenv and load_dotenv(), you can easily manage configuration settings and sensitive information (like API keys and database URLs) in a .env file, keeping them separate from your source code and making your application more secure and easier to configure."
   ]
  },
  {
   "cell_type": "code",
   "execution_count": 16,
   "metadata": {},
   "outputs": [
    {
     "data": {
      "text/plain": [
       "True"
      ]
     },
     "execution_count": 16,
     "metadata": {},
     "output_type": "execute_result"
    }
   ],
   "source": [
    "import os\n",
    "from dotenv import load_dotenv\n",
    "\n",
    "# Load environment variables from .env file\n",
    "load_dotenv()"
   ]
  },
  {
   "cell_type": "markdown",
   "metadata": {},
   "source": [
    "# Explanation:\n",
    "\n",
    "Import Statement: from azure.identity.aio import DefaultAzureCredential: This imports the DefaultAzureCredential class from the azure.identity.aio module. The aio part of the module name indicates that it is designed for asynchronous operations.\n",
    "\n",
    "Purpose of DefaultAzureCredential: The DefaultAzureCredential class is part of the Azure SDK for Python. It provides a default way to authenticate with Azure services. It attempts to authenticate using multiple methods in a specific order, such as environment variables, managed identity, and Azure CLI credentials.\n",
    "\n",
    "Asynchronous Operations:The aio module indicates that the DefaultAzureCredential class supports asynchronous operations. This means you can use it with asyncio to perform non-blocking authentication requests."
   ]
  },
  {
   "cell_type": "code",
   "execution_count": 17,
   "metadata": {
    "dotnet_interactive": {
     "language": "csharp"
    },
    "polyglot_notebook": {
     "kernelName": "csharp"
    }
   },
   "outputs": [],
   "source": [
    "from azure.identity.aio import DefaultAzureCredential"
   ]
  },
  {
   "cell_type": "markdown",
   "metadata": {},
   "source": [
    "# Explanation:\n",
    "Imports various modules and classes from the semantic_kernel package. Here's a breakdown of each import:\n",
    "\n",
    "AgentGroupChat from semantic_kernel.agents: This class handles functionalities related to group chat for AI agents. AzureAIAgent and AzureAIAgentSettings from semantic_kernel.agents.azure_ai\n",
    "\n",
    "AzureAIAgent: This class is used to create and manage AI agents that utilize Azure AI services.\n",
    "\n",
    "AzureAIAgentSettings: This class is used to configure settings for the AzureAIAgent. TerminationStrategy from semantic_kernel.agents.strategies.termination.termination_strategy:\n",
    "\n",
    "This class defines strategies for terminating the execution of AI agents under certain conditions. ChatMessageContent from semantic_kernel.contents.chat_message_content:\n",
    "\n",
    "This class is used to handle the content of chat messages.\n",
    "AuthorRole from semantic_kernel.contents.utils.author_role:\n",
    "\n",
    "This class defines different roles for authors in the context of chat messages. \n",
    "\n",
    "kernel_function from semantic_kernel.functions.kernel_function_decorator: This decorator is used to define kernel functions, which are functions that can be executed within the semantic kernel framework.\n",
    "These imports set up the necessary components for creating and managing AI agents that can interact in a group chat environment, possibly for tasks such as booking hotels or similar activities."
   ]
  },
  {
   "cell_type": "code",
   "execution_count": null,
   "metadata": {
    "dotnet_interactive": {
     "language": "csharp"
    },
    "polyglot_notebook": {
     "kernelName": "csharp"
    }
   },
   "outputs": [
    {
     "ename": "ImportError",
     "evalue": "cannot import name 'AzureAIAgent' from 'semantic_kernel.agents.azure_ai' (c:\\repos\\ai-agents-for-beginners\\.venv\\Lib\\site-packages\\semantic_kernel\\agents\\azure_ai\\__init__.py)",
     "output_type": "error",
     "traceback": [
      "\u001b[31m---------------------------------------------------------------------------\u001b[39m",
      "\u001b[31mImportError\u001b[39m                               Traceback (most recent call last)",
      "\u001b[36mCell\u001b[39m\u001b[36m \u001b[39m\u001b[32mIn[18]\u001b[39m\u001b[32m, line 2\u001b[39m\n\u001b[32m      1\u001b[39m \u001b[38;5;28;01mfrom\u001b[39;00m\u001b[38;5;250m \u001b[39m\u001b[34;01msemantic_kernel\u001b[39;00m\u001b[34;01m.\u001b[39;00m\u001b[34;01magents\u001b[39;00m\u001b[38;5;250m \u001b[39m\u001b[38;5;28;01mimport\u001b[39;00m AgentGroupChat\n\u001b[32m----> \u001b[39m\u001b[32m2\u001b[39m \u001b[38;5;28;01mfrom\u001b[39;00m\u001b[38;5;250m \u001b[39m\u001b[34;01msemantic_kernel\u001b[39;00m\u001b[34;01m.\u001b[39;00m\u001b[34;01magents\u001b[39;00m\u001b[34;01m.\u001b[39;00m\u001b[34;01mazure_ai\u001b[39;00m\u001b[38;5;250m \u001b[39m\u001b[38;5;28;01mimport\u001b[39;00m AzureAIAgent, AzureAIAgentSettings\n\u001b[32m      3\u001b[39m \u001b[38;5;28;01mfrom\u001b[39;00m\u001b[38;5;250m \u001b[39m\u001b[34;01msemantic_kernel\u001b[39;00m\u001b[34;01m.\u001b[39;00m\u001b[34;01magents\u001b[39;00m\u001b[34;01m.\u001b[39;00m\u001b[34;01mstrategies\u001b[39;00m\u001b[34;01m.\u001b[39;00m\u001b[34;01mtermination\u001b[39;00m\u001b[34;01m.\u001b[39;00m\u001b[34;01mtermination_strategy\u001b[39;00m\u001b[38;5;250m \u001b[39m\u001b[38;5;28;01mimport\u001b[39;00m TerminationStrategy\n\u001b[32m      4\u001b[39m \u001b[38;5;28;01mfrom\u001b[39;00m\u001b[38;5;250m \u001b[39m\u001b[34;01msemantic_kernel\u001b[39;00m\u001b[34;01m.\u001b[39;00m\u001b[34;01mcontents\u001b[39;00m\u001b[34;01m.\u001b[39;00m\u001b[34;01mchat_message_content\u001b[39;00m\u001b[38;5;250m \u001b[39m\u001b[38;5;28;01mimport\u001b[39;00m ChatMessageContent\n",
      "\u001b[31mImportError\u001b[39m: cannot import name 'AzureAIAgent' from 'semantic_kernel.agents.azure_ai' (c:\\repos\\ai-agents-for-beginners\\.venv\\Lib\\site-packages\\semantic_kernel\\agents\\azure_ai\\__init__.py)"
     ]
    }
   ],
   "source": [
    "from semantic_kernel.agents import AgentGroupChat\n",
    "from semantic_kernel.agents import AzureAIAgent, AzureAIAgentSettings\n",
    "from semantic_kernel.agents.strategies.termination.termination_strategy import TerminationStrategy\n",
    "from semantic_kernel.contents import ChatMessageContent\n",
    "from semantic_kernel.contents import AuthorRole\n",
    "from semantic_kernel.functions.kernel_function_decorator import kernel_function"
   ]
  },
  {
   "cell_type": "markdown",
   "metadata": {},
   "source": [
    "# Explanation:\n",
    "Next we import the CodeInterpreterTool class from the azure.ai.projects.models module. \n",
    "\n",
    "CodeInterpreterTool: This class is part of the Azure AI SDK and is used to interpret and execute code within the context of AI projects. It provides functionalities for running code snippets, analyzing code, or integrating code execution within AI workflows.\n",
    "This import sets up the necessary component for utilizing the CodeInterpreterTool in your project, which could be useful for tasks that involve interpreting and executing code dynamically."
   ]
  },
  {
   "cell_type": "code",
   "execution_count": null,
   "metadata": {
    "dotnet_interactive": {
     "language": "csharp"
    },
    "polyglot_notebook": {
     "kernelName": "csharp"
    }
   },
   "outputs": [],
   "source": [
    "from azure.ai.projects.models import CodeInterpreterTool"
   ]
  },
  {
   "cell_type": "markdown",
   "metadata": {},
   "source": [
    "# Explanation: \n",
    "The ApprovalTerminationStrategy class provides a specific strategy for terminating an AI agent's operation. The agent will terminate if the last message in its interaction history contains the word \"saved\". This could be useful in scenarios where the agent's task is considered complete once it receives confirmation that something has been \"saved\".Define the interaction method. After the reservation plan is saved, it can be stopped when receiving the saved signal"
   ]
  },
  {
   "cell_type": "code",
   "execution_count": null,
   "metadata": {
    "dotnet_interactive": {
     "language": "csharp"
    },
    "polyglot_notebook": {
     "kernelName": "csharp"
    }
   },
   "outputs": [
    {
     "ename": "NameError",
     "evalue": "name 'TerminationStrategy' is not defined",
     "output_type": "error",
     "traceback": [
      "\u001b[31m---------------------------------------------------------------------------\u001b[39m",
      "\u001b[31mNameError\u001b[39m                                 Traceback (most recent call last)",
      "\u001b[36mCell\u001b[39m\u001b[36m \u001b[39m\u001b[32mIn[7]\u001b[39m\u001b[32m, line 1\u001b[39m\n\u001b[32m----> \u001b[39m\u001b[32m1\u001b[39m \u001b[38;5;28;01mclass\u001b[39;00m\u001b[38;5;250m \u001b[39m\u001b[34;01mApprovalTerminationStrategy\u001b[39;00m(\u001b[43mTerminationStrategy\u001b[49m):\n\u001b[32m      2\u001b[39m \u001b[38;5;250m    \u001b[39m\u001b[33;03m\"\"\"A strategy for determining when an agent should terminate.\"\"\"\u001b[39;00m\n\u001b[32m      4\u001b[39m     \u001b[38;5;28;01masync\u001b[39;00m \u001b[38;5;28;01mdef\u001b[39;00m\u001b[38;5;250m \u001b[39m\u001b[34mshould_agent_terminate\u001b[39m(\u001b[38;5;28mself\u001b[39m, agent, history):\n",
      "\u001b[31mNameError\u001b[39m: name 'TerminationStrategy' is not defined"
     ]
    }
   ],
   "source": [
    "class ApprovalTerminationStrategy(TerminationStrategy):\n",
    "    \"\"\"A strategy for determining when an agent should terminate.\"\"\"\n",
    "\n",
    "    async def should_agent_terminate(self, agent, history):\n",
    "        \"\"\"Check if the agent should terminate.\"\"\"\n",
    "        return \"saved\" in history[-1].content.lower()"
   ]
  },
  {
   "cell_type": "markdown",
   "metadata": {},
   "source": [
    "# Explanation:\n",
    "\n",
    "The line of code initializes an AzureAIAgentSettings object with default or predefined settings by calling the create() method. This settings object (ai_agent_settings) can then be used to configure and manage an AzureAIAgent instance."
   ]
  },
  {
   "cell_type": "code",
   "execution_count": null,
   "metadata": {
    "dotnet_interactive": {
     "language": "csharp"
    },
    "polyglot_notebook": {
     "kernelName": "csharp"
    }
   },
   "outputs": [
    {
     "ename": "NameError",
     "evalue": "name 'AzureAIAgentSettings' is not defined",
     "output_type": "error",
     "traceback": [
      "\u001b[31m---------------------------------------------------------------------------\u001b[39m",
      "\u001b[31mNameError\u001b[39m                                 Traceback (most recent call last)",
      "\u001b[36mCell\u001b[39m\u001b[36m \u001b[39m\u001b[32mIn[8]\u001b[39m\u001b[32m, line 1\u001b[39m\n\u001b[32m----> \u001b[39m\u001b[32m1\u001b[39m ai_agent_settings = \u001b[43mAzureAIAgentSettings\u001b[49m.create()\n",
      "\u001b[31mNameError\u001b[39m: name 'AzureAIAgentSettings' is not defined"
     ]
    }
   ],
   "source": [
    "ai_agent_settings = AzureAIAgentSettings.create()"
   ]
  },
  {
   "cell_type": "markdown",
   "metadata": {},
   "source": [
    "# Explanation:\n",
    "By importing the requests library, you can easily make HTTP requests and interact with web services in your Python code."
   ]
  },
  {
   "cell_type": "code",
   "execution_count": null,
   "metadata": {
    "dotnet_interactive": {
     "language": "csharp"
    },
    "polyglot_notebook": {
     "kernelName": "csharp"
    }
   },
   "outputs": [],
   "source": [
    "import requests"
   ]
  },
  {
   "cell_type": "markdown",
   "metadata": {},
   "source": [
    "# Explanation:\n",
    "This is a variable that stores the API key for accessing a SERP (Search Engine Results Page) API service. An API key is a unique identifier used to authenticate requests associated with your account.\n",
    "\n",
    "'GOOGLE_SEARCH_API_KEY': This is a placeholder string. You need to replace ''GOOGLE_SEARCH_API_KEY' with your actual SERP API key.\n",
    "\n",
    "Purpose: The purpose of this line is to store the API key in a variable so that it can be used to authenticate requests to the SERP API service. The API key is required to access the service and perform searches.\n",
    "\n",
    "How to Get a SERP API Key: To get a SERP API key, follow these general steps at https://serpapi.com (the exact steps may vary depending on the specific SERP API service you are using):\n",
    "\n",
    "Choose a SERP API Service: There are several SERP API services available, such as SerpAPI, Google Custom Search JSON API, and others. Choose the one that best fits your needs.\n",
    "\n",
    "Sign Up for an Account:\n",
    "\n",
    "Go to the website of the chosen SERP API service https://www.serpapi.com and sign up for an account. You may need to provide some basic information and verify your email address.\n",
    "\n",
    "Create an API Key:\n",
    "\n",
    "After signing up, log in to your account and navigate to the API section or dashboard. Look for an option to create or generate a new API key.\n",
    "Copy the API Key:\n",
    "\n",
    "Once the API key is generated, copy it. This key will be used to authenticate your requests to the SERP API service.\n",
    "Replace the Placeholder:\n",
    "\n",
    "Replace the placeholder in your .env file"
   ]
  },
  {
   "cell_type": "code",
   "execution_count": null,
   "metadata": {
    "dotnet_interactive": {
     "language": "csharp"
    },
    "polyglot_notebook": {
     "kernelName": "csharp"
    }
   },
   "outputs": [],
   "source": [
    "SERPAPI_SEARCH_API_KEY=os.getenv('SERPAPI_SEARCH_API_KEY')"
   ]
  },
  {
   "cell_type": "code",
   "execution_count": null,
   "metadata": {
    "dotnet_interactive": {
     "language": "csharp"
    },
    "polyglot_notebook": {
     "kernelName": "csharp"
    }
   },
   "outputs": [],
   "source": [
    "SERPAPI_SEARCH_ENDPOINT = os.getenv('SERPAPI_SEARCH_ENDPOINT')"
   ]
  },
  {
   "cell_type": "markdown",
   "metadata": {},
   "source": [
    "# Explanation:\n",
    "The BookingPlugin class provides methods for booking hotels and flights using the Serpapi.com Google Search API. It constructs the necessary parameters, sends API requests, and processes the responses to return relevant booking information. The API key (SERPAPI_SEARCH_API_KEY) and endpoint (SERPAPI_SEARCH_ENDPOINT) are used to authenticate and send requests to the Google Search API."
   ]
  },
  {
   "cell_type": "code",
   "execution_count": null,
   "metadata": {
    "dotnet_interactive": {
     "language": "csharp"
    },
    "polyglot_notebook": {
     "kernelName": "csharp"
    }
   },
   "outputs": [
    {
     "ename": "NameError",
     "evalue": "name 'kernel_function' is not defined",
     "output_type": "error",
     "traceback": [
      "\u001b[31m---------------------------------------------------------------------------\u001b[39m",
      "\u001b[31mNameError\u001b[39m                                 Traceback (most recent call last)",
      "\u001b[36mCell\u001b[39m\u001b[36m \u001b[39m\u001b[32mIn[11]\u001b[39m\u001b[32m, line 2\u001b[39m\n\u001b[32m      1\u001b[39m \u001b[38;5;66;03m# Define Booking Plugin\u001b[39;00m\n\u001b[32m----> \u001b[39m\u001b[32m2\u001b[39m \u001b[38;5;28;43;01mclass\u001b[39;49;00m\u001b[38;5;250;43m \u001b[39;49m\u001b[34;43;01mBookingPlugin\u001b[39;49;00m\u001b[43m:\u001b[49m\n\u001b[32m      3\u001b[39m \u001b[38;5;250;43m    \u001b[39;49m\u001b[33;43;03m\"\"\"Booking Plugin for customers\"\"\"\u001b[39;49;00m\n\u001b[32m      4\u001b[39m \u001b[43m    \u001b[49m\u001b[38;5;129;43m@kernel_function\u001b[39;49m\u001b[43m(\u001b[49m\u001b[43mdescription\u001b[49m\u001b[43m=\u001b[49m\u001b[33;43m\"\u001b[39;49m\u001b[33;43mbooking hotel\u001b[39;49m\u001b[33;43m\"\u001b[39;49m\u001b[43m)\u001b[49m\n\u001b[32m      5\u001b[39m \u001b[43m    \u001b[49m\u001b[38;5;28;43;01mdef\u001b[39;49;00m\u001b[38;5;250;43m \u001b[39;49m\u001b[34;43mbooking_hotel\u001b[39;49m\u001b[43m(\u001b[49m\u001b[38;5;28;43mself\u001b[39;49m\u001b[43m,\u001b[49m\u001b[43mquery\u001b[49m\u001b[43m:\u001b[49m\u001b[43m \u001b[49m\u001b[43mAnnotated\u001b[49m\u001b[43m[\u001b[49m\u001b[38;5;28;43mstr\u001b[39;49m\u001b[43m,\u001b[49m\u001b[43m \u001b[49m\u001b[33;43m\"\u001b[39;49m\u001b[33;43mThe name of the city\u001b[39;49m\u001b[33;43m\"\u001b[39;49m\u001b[43m]\u001b[49m\u001b[43m,\u001b[49m\u001b[43m \u001b[49m\u001b[43mcheck_in_date\u001b[49m\u001b[43m:\u001b[49m\u001b[43m \u001b[49m\u001b[43mAnnotated\u001b[49m\u001b[43m[\u001b[49m\u001b[38;5;28;43mstr\u001b[39;49m\u001b[43m,\u001b[49m\u001b[43m \u001b[49m\u001b[33;43m\"\u001b[39;49m\u001b[33;43mHotel Check-in Time\u001b[39;49m\u001b[33;43m\"\u001b[39;49m\u001b[43m]\u001b[49m\u001b[43m,\u001b[49m\u001b[43m \u001b[49m\u001b[43mcheck_out_date\u001b[49m\u001b[43m:\u001b[49m\u001b[43m \u001b[49m\u001b[43mAnnotated\u001b[49m\u001b[43m[\u001b[49m\u001b[38;5;28;43mstr\u001b[39;49m\u001b[43m,\u001b[49m\u001b[43m \u001b[49m\u001b[33;43m\"\u001b[39;49m\u001b[33;43mHotel Check-in Time\u001b[39;49m\u001b[33;43m\"\u001b[39;49m\u001b[43m]\u001b[49m\u001b[43m)\u001b[49m\u001b[43m-\u001b[49m\u001b[43m>\u001b[49m\u001b[43m \u001b[49m\u001b[43mAnnotated\u001b[49m\u001b[43m[\u001b[49m\u001b[38;5;28;43mstr\u001b[39;49m\u001b[43m,\u001b[49m\u001b[43m \u001b[49m\u001b[33;43m\"\u001b[39;49m\u001b[33;43mReturn the result of booking hotel infomation\u001b[39;49m\u001b[33;43m\"\u001b[39;49m\u001b[43m]\u001b[49m\u001b[43m:\u001b[49m\n",
      "\u001b[36mCell\u001b[39m\u001b[36m \u001b[39m\u001b[32mIn[11]\u001b[39m\u001b[32m, line 4\u001b[39m, in \u001b[36mBookingPlugin\u001b[39m\u001b[34m()\u001b[39m\n\u001b[32m      2\u001b[39m \u001b[38;5;28;01mclass\u001b[39;00m\u001b[38;5;250m \u001b[39m\u001b[34;01mBookingPlugin\u001b[39;00m:\n\u001b[32m      3\u001b[39m \u001b[38;5;250m    \u001b[39m\u001b[33;03m\"\"\"Booking Plugin for customers\"\"\"\u001b[39;00m\n\u001b[32m----> \u001b[39m\u001b[32m4\u001b[39m     \u001b[38;5;129m@kernel_function\u001b[39m(description=\u001b[33m\"\u001b[39m\u001b[33mbooking hotel\u001b[39m\u001b[33m\"\u001b[39m)\n\u001b[32m      5\u001b[39m     \u001b[38;5;28;01mdef\u001b[39;00m\u001b[38;5;250m \u001b[39m\u001b[34mbooking_hotel\u001b[39m(\u001b[38;5;28mself\u001b[39m,query: Annotated[\u001b[38;5;28mstr\u001b[39m, \u001b[33m\"\u001b[39m\u001b[33mThe name of the city\u001b[39m\u001b[33m\"\u001b[39m], check_in_date: Annotated[\u001b[38;5;28mstr\u001b[39m, \u001b[33m\"\u001b[39m\u001b[33mHotel Check-in Time\u001b[39m\u001b[33m\"\u001b[39m], check_out_date: Annotated[\u001b[38;5;28mstr\u001b[39m, \u001b[33m\"\u001b[39m\u001b[33mHotel Check-in Time\u001b[39m\u001b[33m\"\u001b[39m])-> Annotated[\u001b[38;5;28mstr\u001b[39m, \u001b[33m\"\u001b[39m\u001b[33mReturn the result of booking hotel infomation\u001b[39m\u001b[33m\"\u001b[39m]:\n\u001b[32m      7\u001b[39m         params = {\n\u001b[32m      8\u001b[39m             \u001b[33m\"\u001b[39m\u001b[33mengine\u001b[39m\u001b[33m\"\u001b[39m: \u001b[33m\"\u001b[39m\u001b[33mgoogle_hotels\u001b[39m\u001b[33m\"\u001b[39m,\n\u001b[32m      9\u001b[39m             \u001b[33m\"\u001b[39m\u001b[33mq\u001b[39m\u001b[33m\"\u001b[39m: query,\n\u001b[32m   (...)\u001b[39m\u001b[32m     16\u001b[39m             \u001b[33m\"\u001b[39m\u001b[33mapi_key\u001b[39m\u001b[33m\"\u001b[39m: SERPAPI_SEARCH_API_KEY\n\u001b[32m     17\u001b[39m         }\n\u001b[32m     19\u001b[39m         response = requests.get(SERPAPI_SEARCH_ENDPOINT, params=params)\n",
      "\u001b[31mNameError\u001b[39m: name 'kernel_function' is not defined"
     ]
    }
   ],
   "source": [
    "# Define Booking Plugin\n",
    "class BookingPlugin:\n",
    "    \"\"\"Booking Plugin for customers\"\"\"\n",
    "    @kernel_function(description=\"booking hotel\")\n",
    "    def booking_hotel(self,query: Annotated[str, \"The name of the city\"], check_in_date: Annotated[str, \"Hotel Check-in Time\"], check_out_date: Annotated[str, \"Hotel Check-in Time\"])-> Annotated[str, \"Return the result of booking hotel infomation\"]:\n",
    "\n",
    "        params = {\n",
    "            \"engine\": \"google_hotels\",\n",
    "            \"q\": query,\n",
    "            \"check_in_date\": check_in_date,\n",
    "            \"check_out_date\": check_out_date,\n",
    "            \"adults\": \"2\",\n",
    "            \"currency\": \"USD\",\n",
    "            \"gl\": \"us\",\n",
    "            \"hl\": \"en\",\n",
    "            \"api_key\": SERPAPI_SEARCH_API_KEY\n",
    "        }\n",
    "\n",
    "        response = requests.get(SERPAPI_SEARCH_ENDPOINT, params=params)\n",
    "        if response.status_code == 200:\n",
    "            response = response.json()\n",
    "            return response[\"properties\"]\n",
    "        else:\n",
    "            return None\n",
    "\n",
    "    \n",
    "    @kernel_function(description=\"booking fight\")\n",
    "    def  booking_fight(self,origin: Annotated[str, \"The name of Departure\"], destination: Annotated[str, \"The name of Destination\"], outbound_date: Annotated[str, \"The date of outbound\"], return_date: Annotated[str, \"The date of Return_date\"])-> Annotated[str, \"Return the result of booking fight infomation\"]:\n",
    "        \n",
    "        go_params = {\n",
    "            \"engine\": \"google_flights\",   \n",
    "            \"departure_id\": origin,\n",
    "            \"arrival_id\": destination,\n",
    "            \"outbound_date\": outbound_date,\n",
    "            \"return_date\": return_date,  \n",
    "            \"currency\": \"USD\",\n",
    "            \"hl\": \"en\",\n",
    "            \"api_key\": SERPAPI_SEARCH_API_KEY  \n",
    "        }\n",
    "\n",
    "        print(go_params)\n",
    "\n",
    "        go_response = requests.get(SERPAPI_SEARCH_ENDPOINT, params=go_params)\n",
    "\n",
    "\n",
    "        result = ''\n",
    "\n",
    "        if go_response.status_code == 200:\n",
    "            response = go_response.json()\n",
    "\n",
    "            result += \"# outbound \\n \" + str(response)\n",
    "        else:\n",
    "            print('error!!!')\n",
    "            # return None\n",
    "\n",
    "        \n",
    "        back_params = {\n",
    "            \"engine\": \"google_flights\",   \n",
    "            \"departure_id\": destination,\n",
    "            \"arrival_id\": origin,\n",
    "            \"outbound_date\": return_date,\n",
    "            \"return_date\": return_date,  \n",
    "            \"currency\": \"USD\",\n",
    "            \"hl\": \"en\",\n",
    "            \"api_key\": SERPAPI_SEARCH_API_KEY  \n",
    "        }\n",
    "\n",
    "\n",
    "        print(back_params)\n",
    "\n",
    "\n",
    "        back_response = requests.get(SERPAPI_SEARCH_ENDPOINT, params=back_params)\n",
    "\n",
    "\n",
    "\n",
    "        if back_response.status_code == 200:\n",
    "            response = back_response.json()\n",
    "\n",
    "            result += \"\\n # return \\n\"  + str(response)\n",
    "\n",
    "        else:\n",
    "            print('error!!!')\n",
    "            # return None\n",
    "        \n",
    "        print(result)\n",
    "\n",
    "        return result\n",
    "\n",
    "        \n"
   ]
  },
  {
   "cell_type": "markdown",
   "metadata": {},
   "source": [
    "# Explanation:\n",
    "The SavePlugin class provides a method saving_plan to save trip plans using Azure AI services. It sets up Azure credentials, creates an AI agent, processes user inputs to generate and save the trip plan content, and handles file saving and cleanup operations. The method returns \"Saved\" upon successful completion."
   ]
  },
  {
   "cell_type": "code",
   "execution_count": null,
   "metadata": {
    "dotnet_interactive": {
     "language": "csharp"
    },
    "polyglot_notebook": {
     "kernelName": "csharp"
    }
   },
   "outputs": [
    {
     "ename": "NameError",
     "evalue": "name 'kernel_function' is not defined",
     "output_type": "error",
     "traceback": [
      "\u001b[31m---------------------------------------------------------------------------\u001b[39m",
      "\u001b[31mNameError\u001b[39m                                 Traceback (most recent call last)",
      "\u001b[36mCell\u001b[39m\u001b[36m \u001b[39m\u001b[32mIn[12]\u001b[39m\u001b[32m, line 1\u001b[39m\n\u001b[32m----> \u001b[39m\u001b[32m1\u001b[39m \u001b[38;5;28;43;01mclass\u001b[39;49;00m\u001b[38;5;250;43m \u001b[39;49m\u001b[34;43;01mSavePlugin\u001b[39;49;00m\u001b[43m:\u001b[49m\n\u001b[32m      2\u001b[39m \u001b[38;5;250;43m    \u001b[39;49m\u001b[33;43;03m\"\"\"Save Plugin for customers\"\"\"\u001b[39;49;00m\n\u001b[32m      3\u001b[39m \u001b[43m    \u001b[49m\u001b[38;5;129;43m@kernel_function\u001b[39;49m\u001b[43m(\u001b[49m\u001b[43mdescription\u001b[49m\u001b[43m=\u001b[49m\u001b[33;43m\"\u001b[39;49m\u001b[33;43msaving plan\u001b[39;49m\u001b[33;43m\"\u001b[39;49m\u001b[43m)\u001b[49m\n\u001b[32m      4\u001b[39m \u001b[43m    \u001b[49m\u001b[38;5;28;43;01masync\u001b[39;49;00m\u001b[43m \u001b[49m\u001b[38;5;28;43;01mdef\u001b[39;49;00m\u001b[38;5;250;43m \u001b[39;49m\u001b[34;43msaving_plan\u001b[39;49m\u001b[43m(\u001b[49m\u001b[38;5;28;43mself\u001b[39;49m\u001b[43m,\u001b[49m\u001b[43mtripplan\u001b[49m\u001b[43m:\u001b[49m\u001b[43m \u001b[49m\u001b[43mAnnotated\u001b[49m\u001b[43m[\u001b[49m\u001b[38;5;28;43mstr\u001b[39;49m\u001b[43m,\u001b[49m\u001b[43m \u001b[49m\u001b[33;43m\"\u001b[39;49m\u001b[33;43mThe content of trip plan\u001b[39;49m\u001b[33;43m\"\u001b[39;49m\u001b[43m]\u001b[49m\u001b[43m)\u001b[49m\u001b[43m-\u001b[49m\u001b[43m>\u001b[49m\u001b[43m \u001b[49m\u001b[43mAnnotated\u001b[49m\u001b[43m[\u001b[49m\u001b[38;5;28;43mstr\u001b[39;49m\u001b[43m,\u001b[49m\u001b[43m \u001b[49m\u001b[33;43m\"\u001b[39;49m\u001b[33;43mReturn status of save content\u001b[39;49m\u001b[33;43m\"\u001b[39;49m\u001b[43m]\u001b[49m\u001b[43m:\u001b[49m\n",
      "\u001b[36mCell\u001b[39m\u001b[36m \u001b[39m\u001b[32mIn[12]\u001b[39m\u001b[32m, line 3\u001b[39m, in \u001b[36mSavePlugin\u001b[39m\u001b[34m()\u001b[39m\n\u001b[32m      1\u001b[39m \u001b[38;5;28;01mclass\u001b[39;00m\u001b[38;5;250m \u001b[39m\u001b[34;01mSavePlugin\u001b[39;00m:\n\u001b[32m      2\u001b[39m \u001b[38;5;250m    \u001b[39m\u001b[33;03m\"\"\"Save Plugin for customers\"\"\"\u001b[39;00m\n\u001b[32m----> \u001b[39m\u001b[32m3\u001b[39m     \u001b[38;5;129m@kernel_function\u001b[39m(description=\u001b[33m\"\u001b[39m\u001b[33msaving plan\u001b[39m\u001b[33m\"\u001b[39m)\n\u001b[32m      4\u001b[39m     \u001b[38;5;28;01masync\u001b[39;00m \u001b[38;5;28;01mdef\u001b[39;00m\u001b[38;5;250m \u001b[39m\u001b[34msaving_plan\u001b[39m(\u001b[38;5;28mself\u001b[39m,tripplan: Annotated[\u001b[38;5;28mstr\u001b[39m, \u001b[33m\"\u001b[39m\u001b[33mThe content of trip plan\u001b[39m\u001b[33m\"\u001b[39m])-> Annotated[\u001b[38;5;28mstr\u001b[39m, \u001b[33m\"\u001b[39m\u001b[33mReturn status of save content\u001b[39m\u001b[33m\"\u001b[39m]:\n\u001b[32m      6\u001b[39m         \u001b[38;5;28;01masync\u001b[39;00m \u001b[38;5;28;01mwith\u001b[39;00m (\n\u001b[32m      7\u001b[39m             DefaultAzureCredential() \u001b[38;5;28;01mas\u001b[39;00m creds,\n\u001b[32m      8\u001b[39m             AzureAIAgent.create_client(\n\u001b[32m   (...)\u001b[39m\u001b[32m     11\u001b[39m             ) \u001b[38;5;28;01mas\u001b[39;00m client,\n\u001b[32m     12\u001b[39m         ):\n\u001b[32m     14\u001b[39m             code_interpreter = CodeInterpreterTool()\n",
      "\u001b[31mNameError\u001b[39m: name 'kernel_function' is not defined"
     ]
    }
   ],
   "source": [
    "class SavePlugin:\n",
    "    \"\"\"Save Plugin for customers\"\"\"\n",
    "    @kernel_function(description=\"saving plan\")\n",
    "    async def saving_plan(self,tripplan: Annotated[str, \"The content of trip plan\"])-> Annotated[str, \"Return status of save content\"]:\n",
    "\n",
    "        async with (\n",
    "            DefaultAzureCredential() as creds,\n",
    "            AzureAIAgent.create_client(\n",
    "                credential=creds,\n",
    "                conn_str=ai_agent_settings.project_connection_string.get_secret_value(),\n",
    "            ) as client,\n",
    "        ):\n",
    "\n",
    "            code_interpreter = CodeInterpreterTool()\n",
    "            \n",
    "            agent_definition = await client.agents.create_agent(\n",
    "                model=ai_agent_settings.model_deployment_name,\n",
    "                tools=code_interpreter.definitions,\n",
    "                tool_resources=code_interpreter.resources,\n",
    "            )\n",
    "\n",
    "\n",
    "            agent = AzureAIAgent(\n",
    "                client=client,\n",
    "                definition=agent_definition,\n",
    "            )\n",
    "\n",
    "            thread = await client.agents.create_thread()\n",
    "\n",
    "\n",
    "            user_inputs = [\n",
    "                \"\"\"\n",
    "            \n",
    "                        You are my Python programming assistant. Generate code,save \"\"\"+ tripplan +\n",
    "                        \n",
    "                    \"\"\"    \n",
    "                        and execute it according to the following requirements\n",
    "\n",
    "                        1. Save blog content to trip-{YYMMDDHHMMSS}.md\n",
    "\n",
    "                        2. give me the download this file link\n",
    "                    \"\"\"\n",
    "            ]\n",
    "\n",
    "\n",
    "\n",
    "            try:\n",
    "                for user_input in user_inputs:\n",
    "                    # Add the user input as a chat message\n",
    "                    await agent.add_chat_message(\n",
    "                        thread_id=thread.id, message=ChatMessageContent(role=AuthorRole.USER, content=user_input)\n",
    "                    )\n",
    "                    print(f\"# User: '{user_input}'\")\n",
    "                    # Invoke the agent for the specified thread\n",
    "                    async for content in agent.invoke(thread_id=thread.id):\n",
    "                        if content.role != AuthorRole.TOOL:\n",
    "                            print(f\"# Agent: {content.content}\")\n",
    "\n",
    "                    \n",
    "                    messages = await client.agents.list_messages(thread_id=thread.id)\n",
    "\n",
    "                    # OpenAIPageableListOfThreadMessage\n",
    "                    # OpenAIPageableListOfThreadMessage\n",
    "\n",
    "\n",
    "                    for file_path_annotation in messages.file_path_annotations:\n",
    "\n",
    "                            file_name = os.path.basename(file_path_annotation.text)\n",
    "\n",
    "                            await client.agents.save_file(file_id=file_path_annotation.file_path.file_id, file_name=file_name,target_dir=\"./trip\")\n",
    "\n",
    "                    \n",
    "            finally:\n",
    "                await client.agents.delete_thread(thread.id)\n",
    "                await client.agents.delete_agent(agent.id)\n",
    "\n",
    "\n",
    "        return \"Saved\""
   ]
  },
  {
   "cell_type": "markdown",
   "metadata": {},
   "source": [
    "# Explanation:\n",
    "This code sets up Azure AI agents to handle booking flights and hotels, and saving trip plans based on user inputs. It uses Azure credentials to create and configure the agents, processes user inputs through a group chat, and ensures proper cleanup after the tasks are completed. The agents use specific plugins (BookingPlugin and SavePlugin) to perform their respective tasks.\n"
   ]
  },
  {
   "cell_type": "code",
   "execution_count": null,
   "metadata": {
    "dotnet_interactive": {
     "language": "csharp"
    },
    "polyglot_notebook": {
     "kernelName": "csharp"
    }
   },
   "outputs": [
    {
     "ename": "NameError",
     "evalue": "name 'AzureAIAgent' is not defined",
     "output_type": "error",
     "traceback": [
      "\u001b[31m---------------------------------------------------------------------------\u001b[39m",
      "\u001b[31mNameError\u001b[39m                                 Traceback (most recent call last)",
      "\u001b[36mCell\u001b[39m\u001b[36m \u001b[39m\u001b[32mIn[13]\u001b[39m\u001b[32m, line 3\u001b[39m\n\u001b[32m      1\u001b[39m \u001b[38;5;28;01masync\u001b[39;00m \u001b[38;5;28;01mwith\u001b[39;00m (\n\u001b[32m      2\u001b[39m     DefaultAzureCredential() \u001b[38;5;28;01mas\u001b[39;00m creds,\n\u001b[32m----> \u001b[39m\u001b[32m3\u001b[39m     \u001b[43mAzureAIAgent\u001b[49m.create_client(\n\u001b[32m      4\u001b[39m         credential=creds,\n\u001b[32m      5\u001b[39m         conn_str=ai_agent_settings.project_connection_string.get_secret_value(),\n\u001b[32m      6\u001b[39m     ) \u001b[38;5;28;01mas\u001b[39;00m client,\n\u001b[32m      7\u001b[39m ):\n\u001b[32m      8\u001b[39m     BOOKING_AGENT_NAME = \u001b[33m\"\u001b[39m\u001b[33mBookingAgent\u001b[39m\u001b[33m\"\u001b[39m\n\u001b[32m      9\u001b[39m     BOOKING_AGENT_INSTRUCTIONS = \u001b[33m\"\"\"\u001b[39m\n\u001b[32m     10\u001b[39m \u001b[33m    You are a booking agent. Help me book flights or hotels.\u001b[39m\n\u001b[32m     11\u001b[39m \n\u001b[32m   (...)\u001b[39m\u001b[32m     22\u001b[39m \u001b[33m        Property Name | Property Description | Check-in Time | Check-out Time | Prices | Nearby Places | Hotel Class | GPS Coordinates.\u001b[39m\n\u001b[32m     23\u001b[39m \u001b[33m    \u001b[39m\u001b[33m\"\"\"\u001b[39m\n",
      "\u001b[31mNameError\u001b[39m: name 'AzureAIAgent' is not defined"
     ]
    }
   ],
   "source": [
    "async with (\n",
    "    DefaultAzureCredential() as creds,\n",
    "    AzureAIAgent.create_client(\n",
    "        credential=creds,\n",
    "        conn_str=ai_agent_settings.project_connection_string.get_secret_value(),\n",
    "    ) as client,\n",
    "):\n",
    "    BOOKING_AGENT_NAME = \"BookingAgent\"\n",
    "    BOOKING_AGENT_INSTRUCTIONS = \"\"\"\n",
    "    You are a booking agent. Help me book flights or hotels.\n",
    "\n",
    "    Thought: Please understand the user's intention and confirm whether to use the reservation system to complete the task.\n",
    "\n",
    "    Actions:\n",
    "    - For flight bookings, convert the departure and destination names into airport codes.\n",
    "    - Use the appropriate API for hotel or flight bookings. Verify that all necessary parameters are available. If any parameters are missing, ask the user to provide them. If all parameters are complete, call the corresponding function.\n",
    "    - If the task is not related to hotel or flight booking, respond with the final answer only.\n",
    "    - Output the results using a markdown table:\n",
    "      - For flight bookings, output separate outbound and return contents in the order of:\n",
    "        Departure Airport | Airline | Flight Number | Departure Time | Arrival Airport | Arrival Time | Duration | Airplane | Travel Class | Price (USD) | Legroom | Extensions | Carbon Emissions (kg).\n",
    "      - For hotel bookings, output in the order of:\n",
    "        Property Name | Property Description | Check-in Time | Check-out Time | Prices | Nearby Places | Hotel Class | GPS Coordinates.\n",
    "    \"\"\"\n",
    "\n",
    "    SAVE_AGENT_NAME = \"SaveAgent\"\n",
    "    SAVE_AGENT_INSTRUCTIONS = \"\"\"\n",
    "    You are a save tool agent. Help me to save the trip plan.\n",
    "    \"\"\"\n",
    "\n",
    "    # Create agent definition\n",
    "    booking_agent_definition = await client.agents.create_agent(\n",
    "        model=ai_agent_settings.model_deployment_name,\n",
    "        name=BOOKING_AGENT_NAME,\n",
    "        instructions=BOOKING_AGENT_INSTRUCTIONS,\n",
    "    )\n",
    "\n",
    "    # Create the AzureAI Agent\n",
    "    booking_agent = AzureAIAgent(\n",
    "        client=client,\n",
    "        definition=booking_agent_definition,\n",
    "        # Optionally configure polling options\n",
    "        # polling_options=RunPollingOptions(run_polling_interval=timedelta(seconds=1)),\n",
    "    )\n",
    "\n",
    "    # Add the sample plugin to the kernel\n",
    "    booking_agent.kernel.add_plugin(BookingPlugin(), plugin_name=\"booking\")\n",
    "\n",
    "    # Create agent definition\n",
    "    save_agent_definition = await client.agents.create_agent(\n",
    "        model=ai_agent_settings.model_deployment_name,\n",
    "        name=SAVE_AGENT_NAME,\n",
    "        instructions=SAVE_AGENT_INSTRUCTIONS\n",
    "    )\n",
    "\n",
    "    # Create the AzureAI Agent\n",
    "    save_agent = AzureAIAgent(\n",
    "        client=client,\n",
    "        definition=save_agent_definition,\n",
    "    )\n",
    "\n",
    "    save_agent.kernel.add_plugin(SavePlugin(), plugin_name=\"saving\")\n",
    "\n",
    "    user_inputs = [\n",
    "        \"I have a business trip from London to New York in Feb 20 2025 to Feb 27 2025 ,help me to book a hotel and fight tickets and save it\"\n",
    "    ]\n",
    "\n",
    "    chat = AgentGroupChat(\n",
    "        agents=[booking_agent, save_agent],\n",
    "        termination_strategy=ApprovalTerminationStrategy(agents=[save_agent], maximum_iterations=10),\n",
    "    )\n",
    "\n",
    "    try:\n",
    "        for user_input in user_inputs:\n",
    "            # Add the user input as a chat message\n",
    "            await chat.add_chat_message(\n",
    "                ChatMessageContent(role=AuthorRole.USER, content=user_input)\n",
    "            )\n",
    "            print(f\"# User: '{user_input}'\")\n",
    "\n",
    "            async for content in chat.invoke():\n",
    "                print(f\"# {content.role} - {content.name or '*'}: '{content.content}'\")\n",
    "\n",
    "            print(f\"# IS COMPLETE: {chat.is_complete}\")\n",
    "\n",
    "            print(\"*\" * 60)\n",
    "            print(\"Chat History (In Descending Order):\\n\")\n",
    "            async for message in chat.get_chat_messages(agent=save_agent):\n",
    "                print(f\"# {message.role} - {message.name or '*'}: '{message.content}'\")\n",
    "    finally:\n",
    "        await chat.reset()\n",
    "        await client.agents.delete_agent(save_agent.id)\n",
    "        await client.agents.delete_agent(booking_agent.id)\n"
   ]
  }
 ],
 "metadata": {
  "kernelspec": {
   "display_name": ".venv",
   "language": "python",
   "name": "python3"
  },
  "language_info": {
   "codemirror_mode": {
    "name": "ipython",
    "version": 3
   },
   "file_extension": ".py",
   "mimetype": "text/x-python",
   "name": "python",
   "nbconvert_exporter": "python",
   "pygments_lexer": "ipython3",
   "version": "3.11.9"
  },
  "polyglot_notebook": {
   "kernelInfo": {
    "defaultKernelName": "csharp",
    "items": [
     {
      "aliases": [],
      "name": "csharp"
     }
    ]
   }
  }
 },
 "nbformat": 4,
 "nbformat_minor": 2
}
